{
 "cells": [
  {
   "cell_type": "code",
   "execution_count": 1,
   "id": "42e130cf",
   "metadata": {},
   "outputs": [],
   "source": [
    "import numpy as np\n",
    "import pandas as pd\n",
    "import matplotlib.pyplot as plt\n",
    "%matplotlib inline"
   ]
  },
  {
   "cell_type": "code",
   "execution_count": 2,
   "id": "02c320a9",
   "metadata": {},
   "outputs": [],
   "source": [
    "data = pd.read_csv(\"     \") #especificar o diretório do embedding '.csv'"
   ]
  },
  {
   "cell_type": "code",
   "execution_count": 3,
   "id": "21ac9e1e",
   "metadata": {},
   "outputs": [
    {
     "data": {
      "text/html": [
       "<div>\n",
       "<style scoped>\n",
       "    .dataframe tbody tr th:only-of-type {\n",
       "        vertical-align: middle;\n",
       "    }\n",
       "\n",
       "    .dataframe tbody tr th {\n",
       "        vertical-align: top;\n",
       "    }\n",
       "\n",
       "    .dataframe thead th {\n",
       "        text-align: right;\n",
       "    }\n",
       "</style>\n",
       "<table border=\"1\" class=\"dataframe\">\n",
       "  <thead>\n",
       "    <tr style=\"text-align: right;\">\n",
       "      <th></th>\n",
       "      <th>0</th>\n",
       "      <th>1</th>\n",
       "      <th>2</th>\n",
       "      <th>3</th>\n",
       "      <th>4</th>\n",
       "      <th>5</th>\n",
       "      <th>6</th>\n",
       "      <th>7</th>\n",
       "      <th>8</th>\n",
       "      <th>9</th>\n",
       "      <th>...</th>\n",
       "      <th>119</th>\n",
       "      <th>120</th>\n",
       "      <th>121</th>\n",
       "      <th>122</th>\n",
       "      <th>123</th>\n",
       "      <th>124</th>\n",
       "      <th>125</th>\n",
       "      <th>126</th>\n",
       "      <th>127</th>\n",
       "      <th>target</th>\n",
       "    </tr>\n",
       "  </thead>\n",
       "  <tbody>\n",
       "    <tr>\n",
       "      <th>0</th>\n",
       "      <td>0.773820</td>\n",
       "      <td>0.940154</td>\n",
       "      <td>1.937597</td>\n",
       "      <td>-2.384608</td>\n",
       "      <td>-2.124724</td>\n",
       "      <td>-0.300580</td>\n",
       "      <td>2.157055</td>\n",
       "      <td>-1.292653</td>\n",
       "      <td>-2.066481</td>\n",
       "      <td>1.542899</td>\n",
       "      <td>...</td>\n",
       "      <td>0.206423</td>\n",
       "      <td>1.796256</td>\n",
       "      <td>1.004882</td>\n",
       "      <td>1.749748</td>\n",
       "      <td>-2.185024</td>\n",
       "      <td>-0.495986</td>\n",
       "      <td>1.297620</td>\n",
       "      <td>0.592177</td>\n",
       "      <td>-2.049832</td>\n",
       "      <td>jacirene</td>\n",
       "    </tr>\n",
       "    <tr>\n",
       "      <th>1</th>\n",
       "      <td>0.382495</td>\n",
       "      <td>0.071410</td>\n",
       "      <td>0.597655</td>\n",
       "      <td>-1.405943</td>\n",
       "      <td>-0.388497</td>\n",
       "      <td>0.981016</td>\n",
       "      <td>1.268938</td>\n",
       "      <td>0.641690</td>\n",
       "      <td>-1.102316</td>\n",
       "      <td>0.418160</td>\n",
       "      <td>...</td>\n",
       "      <td>-0.436837</td>\n",
       "      <td>1.031930</td>\n",
       "      <td>1.459957</td>\n",
       "      <td>0.976787</td>\n",
       "      <td>-1.305785</td>\n",
       "      <td>-1.225237</td>\n",
       "      <td>1.329608</td>\n",
       "      <td>0.365358</td>\n",
       "      <td>-1.089727</td>\n",
       "      <td>jacirene</td>\n",
       "    </tr>\n",
       "    <tr>\n",
       "      <th>2</th>\n",
       "      <td>0.857152</td>\n",
       "      <td>1.016363</td>\n",
       "      <td>1.665553</td>\n",
       "      <td>-2.938282</td>\n",
       "      <td>-2.711052</td>\n",
       "      <td>0.057199</td>\n",
       "      <td>1.775410</td>\n",
       "      <td>-0.917871</td>\n",
       "      <td>-2.252425</td>\n",
       "      <td>1.260346</td>\n",
       "      <td>...</td>\n",
       "      <td>0.317511</td>\n",
       "      <td>0.743042</td>\n",
       "      <td>2.140142</td>\n",
       "      <td>1.936986</td>\n",
       "      <td>-2.477484</td>\n",
       "      <td>-0.340609</td>\n",
       "      <td>1.243687</td>\n",
       "      <td>-0.032967</td>\n",
       "      <td>-2.095082</td>\n",
       "      <td>jacirene</td>\n",
       "    </tr>\n",
       "    <tr>\n",
       "      <th>3</th>\n",
       "      <td>0.570754</td>\n",
       "      <td>0.568859</td>\n",
       "      <td>1.583700</td>\n",
       "      <td>-1.560458</td>\n",
       "      <td>-2.193726</td>\n",
       "      <td>0.325005</td>\n",
       "      <td>2.016536</td>\n",
       "      <td>-0.638701</td>\n",
       "      <td>-2.056740</td>\n",
       "      <td>1.862633</td>\n",
       "      <td>...</td>\n",
       "      <td>1.075053</td>\n",
       "      <td>0.781721</td>\n",
       "      <td>0.861505</td>\n",
       "      <td>0.909504</td>\n",
       "      <td>-2.041338</td>\n",
       "      <td>-0.766266</td>\n",
       "      <td>1.371126</td>\n",
       "      <td>1.335715</td>\n",
       "      <td>-2.027178</td>\n",
       "      <td>jacirene</td>\n",
       "    </tr>\n",
       "    <tr>\n",
       "      <th>4</th>\n",
       "      <td>0.629961</td>\n",
       "      <td>0.386447</td>\n",
       "      <td>0.791172</td>\n",
       "      <td>-1.992482</td>\n",
       "      <td>-1.336536</td>\n",
       "      <td>0.966193</td>\n",
       "      <td>0.212360</td>\n",
       "      <td>0.197613</td>\n",
       "      <td>-1.448638</td>\n",
       "      <td>-0.140373</td>\n",
       "      <td>...</td>\n",
       "      <td>-0.199420</td>\n",
       "      <td>1.121877</td>\n",
       "      <td>1.945362</td>\n",
       "      <td>1.338065</td>\n",
       "      <td>-1.547372</td>\n",
       "      <td>-0.446822</td>\n",
       "      <td>0.628968</td>\n",
       "      <td>-0.123900</td>\n",
       "      <td>-0.965930</td>\n",
       "      <td>jacirene</td>\n",
       "    </tr>\n",
       "    <tr>\n",
       "      <th>...</th>\n",
       "      <td>...</td>\n",
       "      <td>...</td>\n",
       "      <td>...</td>\n",
       "      <td>...</td>\n",
       "      <td>...</td>\n",
       "      <td>...</td>\n",
       "      <td>...</td>\n",
       "      <td>...</td>\n",
       "      <td>...</td>\n",
       "      <td>...</td>\n",
       "      <td>...</td>\n",
       "      <td>...</td>\n",
       "      <td>...</td>\n",
       "      <td>...</td>\n",
       "      <td>...</td>\n",
       "      <td>...</td>\n",
       "      <td>...</td>\n",
       "      <td>...</td>\n",
       "      <td>...</td>\n",
       "      <td>...</td>\n",
       "      <td>...</td>\n",
       "    </tr>\n",
       "    <tr>\n",
       "      <th>714</th>\n",
       "      <td>-1.323331</td>\n",
       "      <td>-0.831460</td>\n",
       "      <td>0.571645</td>\n",
       "      <td>0.569810</td>\n",
       "      <td>-1.561456</td>\n",
       "      <td>0.304417</td>\n",
       "      <td>-1.422780</td>\n",
       "      <td>0.320264</td>\n",
       "      <td>-0.257651</td>\n",
       "      <td>0.518004</td>\n",
       "      <td>...</td>\n",
       "      <td>0.014109</td>\n",
       "      <td>0.792415</td>\n",
       "      <td>-1.294964</td>\n",
       "      <td>0.859232</td>\n",
       "      <td>-0.986863</td>\n",
       "      <td>-2.298668</td>\n",
       "      <td>0.155723</td>\n",
       "      <td>0.454534</td>\n",
       "      <td>-0.804315</td>\n",
       "      <td>vigner</td>\n",
       "    </tr>\n",
       "    <tr>\n",
       "      <th>715</th>\n",
       "      <td>-0.984223</td>\n",
       "      <td>-0.890123</td>\n",
       "      <td>0.698409</td>\n",
       "      <td>0.032180</td>\n",
       "      <td>-1.837200</td>\n",
       "      <td>0.791765</td>\n",
       "      <td>-1.638385</td>\n",
       "      <td>0.446136</td>\n",
       "      <td>-0.611858</td>\n",
       "      <td>0.702345</td>\n",
       "      <td>...</td>\n",
       "      <td>-0.101597</td>\n",
       "      <td>0.925603</td>\n",
       "      <td>-1.590244</td>\n",
       "      <td>1.071424</td>\n",
       "      <td>-0.985908</td>\n",
       "      <td>-1.902432</td>\n",
       "      <td>-0.410613</td>\n",
       "      <td>1.075515</td>\n",
       "      <td>-0.680475</td>\n",
       "      <td>vigner</td>\n",
       "    </tr>\n",
       "    <tr>\n",
       "      <th>716</th>\n",
       "      <td>-1.445020</td>\n",
       "      <td>-0.715599</td>\n",
       "      <td>-0.316408</td>\n",
       "      <td>0.556710</td>\n",
       "      <td>-1.779175</td>\n",
       "      <td>0.276357</td>\n",
       "      <td>-1.553386</td>\n",
       "      <td>0.588750</td>\n",
       "      <td>-0.302703</td>\n",
       "      <td>0.786426</td>\n",
       "      <td>...</td>\n",
       "      <td>0.046035</td>\n",
       "      <td>1.473959</td>\n",
       "      <td>-0.978541</td>\n",
       "      <td>0.806276</td>\n",
       "      <td>-0.716354</td>\n",
       "      <td>-2.357178</td>\n",
       "      <td>-0.623567</td>\n",
       "      <td>-0.013360</td>\n",
       "      <td>-0.369257</td>\n",
       "      <td>vigner</td>\n",
       "    </tr>\n",
       "    <tr>\n",
       "      <th>717</th>\n",
       "      <td>-1.285286</td>\n",
       "      <td>1.385455</td>\n",
       "      <td>-0.843062</td>\n",
       "      <td>0.427717</td>\n",
       "      <td>-1.778082</td>\n",
       "      <td>0.882739</td>\n",
       "      <td>0.316082</td>\n",
       "      <td>-0.215680</td>\n",
       "      <td>0.424734</td>\n",
       "      <td>-0.200935</td>\n",
       "      <td>...</td>\n",
       "      <td>0.871557</td>\n",
       "      <td>-0.326230</td>\n",
       "      <td>-0.034723</td>\n",
       "      <td>2.270515</td>\n",
       "      <td>-0.475003</td>\n",
       "      <td>-1.725972</td>\n",
       "      <td>-0.627987</td>\n",
       "      <td>0.180300</td>\n",
       "      <td>-0.367522</td>\n",
       "      <td>vigner</td>\n",
       "    </tr>\n",
       "    <tr>\n",
       "      <th>718</th>\n",
       "      <td>-0.540573</td>\n",
       "      <td>1.627551</td>\n",
       "      <td>-1.192602</td>\n",
       "      <td>0.158921</td>\n",
       "      <td>-1.629386</td>\n",
       "      <td>1.094797</td>\n",
       "      <td>0.189161</td>\n",
       "      <td>0.494118</td>\n",
       "      <td>0.424830</td>\n",
       "      <td>-0.031813</td>\n",
       "      <td>...</td>\n",
       "      <td>0.258452</td>\n",
       "      <td>-0.362170</td>\n",
       "      <td>0.421597</td>\n",
       "      <td>2.172454</td>\n",
       "      <td>0.077122</td>\n",
       "      <td>-2.004855</td>\n",
       "      <td>-0.986620</td>\n",
       "      <td>-0.536715</td>\n",
       "      <td>-0.859676</td>\n",
       "      <td>vigner</td>\n",
       "    </tr>\n",
       "  </tbody>\n",
       "</table>\n",
       "<p>719 rows × 129 columns</p>\n",
       "</div>"
      ],
      "text/plain": [
       "            0         1         2         3         4         5         6  \\\n",
       "0    0.773820  0.940154  1.937597 -2.384608 -2.124724 -0.300580  2.157055   \n",
       "1    0.382495  0.071410  0.597655 -1.405943 -0.388497  0.981016  1.268938   \n",
       "2    0.857152  1.016363  1.665553 -2.938282 -2.711052  0.057199  1.775410   \n",
       "3    0.570754  0.568859  1.583700 -1.560458 -2.193726  0.325005  2.016536   \n",
       "4    0.629961  0.386447  0.791172 -1.992482 -1.336536  0.966193  0.212360   \n",
       "..        ...       ...       ...       ...       ...       ...       ...   \n",
       "714 -1.323331 -0.831460  0.571645  0.569810 -1.561456  0.304417 -1.422780   \n",
       "715 -0.984223 -0.890123  0.698409  0.032180 -1.837200  0.791765 -1.638385   \n",
       "716 -1.445020 -0.715599 -0.316408  0.556710 -1.779175  0.276357 -1.553386   \n",
       "717 -1.285286  1.385455 -0.843062  0.427717 -1.778082  0.882739  0.316082   \n",
       "718 -0.540573  1.627551 -1.192602  0.158921 -1.629386  1.094797  0.189161   \n",
       "\n",
       "            7         8         9  ...       119       120       121  \\\n",
       "0   -1.292653 -2.066481  1.542899  ...  0.206423  1.796256  1.004882   \n",
       "1    0.641690 -1.102316  0.418160  ... -0.436837  1.031930  1.459957   \n",
       "2   -0.917871 -2.252425  1.260346  ...  0.317511  0.743042  2.140142   \n",
       "3   -0.638701 -2.056740  1.862633  ...  1.075053  0.781721  0.861505   \n",
       "4    0.197613 -1.448638 -0.140373  ... -0.199420  1.121877  1.945362   \n",
       "..        ...       ...       ...  ...       ...       ...       ...   \n",
       "714  0.320264 -0.257651  0.518004  ...  0.014109  0.792415 -1.294964   \n",
       "715  0.446136 -0.611858  0.702345  ... -0.101597  0.925603 -1.590244   \n",
       "716  0.588750 -0.302703  0.786426  ...  0.046035  1.473959 -0.978541   \n",
       "717 -0.215680  0.424734 -0.200935  ...  0.871557 -0.326230 -0.034723   \n",
       "718  0.494118  0.424830 -0.031813  ...  0.258452 -0.362170  0.421597   \n",
       "\n",
       "          122       123       124       125       126       127    target  \n",
       "0    1.749748 -2.185024 -0.495986  1.297620  0.592177 -2.049832  jacirene  \n",
       "1    0.976787 -1.305785 -1.225237  1.329608  0.365358 -1.089727  jacirene  \n",
       "2    1.936986 -2.477484 -0.340609  1.243687 -0.032967 -2.095082  jacirene  \n",
       "3    0.909504 -2.041338 -0.766266  1.371126  1.335715 -2.027178  jacirene  \n",
       "4    1.338065 -1.547372 -0.446822  0.628968 -0.123900 -0.965930  jacirene  \n",
       "..        ...       ...       ...       ...       ...       ...       ...  \n",
       "714  0.859232 -0.986863 -2.298668  0.155723  0.454534 -0.804315    vigner  \n",
       "715  1.071424 -0.985908 -1.902432 -0.410613  1.075515 -0.680475    vigner  \n",
       "716  0.806276 -0.716354 -2.357178 -0.623567 -0.013360 -0.369257    vigner  \n",
       "717  2.270515 -0.475003 -1.725972 -0.627987  0.180300 -0.367522    vigner  \n",
       "718  2.172454  0.077122 -2.004855 -0.986620 -0.536715 -0.859676    vigner  \n",
       "\n",
       "[719 rows x 129 columns]"
      ]
     },
     "execution_count": 3,
     "metadata": {},
     "output_type": "execute_result"
    }
   ],
   "source": [
    "data"
   ]
  },
  {
   "cell_type": "code",
   "execution_count": 4,
   "id": "16118a2a",
   "metadata": {},
   "outputs": [],
   "source": [
    "X = np.array(data.drop('target', axis=1 )) #geração dos rótulos das classes(pessoas)"
   ]
  },
  {
   "cell_type": "code",
   "execution_count": 5,
   "id": "912ece14",
   "metadata": {},
   "outputs": [
    {
     "data": {
      "text/plain": [
       "(719, 128)"
      ]
     },
     "execution_count": 5,
     "metadata": {},
     "output_type": "execute_result"
    }
   ],
   "source": [
    "X.shape"
   ]
  },
  {
   "cell_type": "code",
   "execution_count": 6,
   "id": "2af79cc7",
   "metadata": {},
   "outputs": [],
   "source": [
    "y = np.array(data.target)"
   ]
  },
  {
   "cell_type": "code",
   "execution_count": 7,
   "id": "3390e298",
   "metadata": {},
   "outputs": [
    {
     "data": {
      "text/plain": [
       "array(['jacirene', 'jacirene', 'jacirene', 'jacirene', 'jacirene',\n",
       "       'jacirene', 'jacirene', 'jacirene', 'jacirene', 'jacirene',\n",
       "       'jacirene', 'jacirene', 'jacirene', 'jacirene', 'jacirene',\n",
       "       'jacirene', 'jacirene', 'jacirene', 'jacirene', 'jacirene',\n",
       "       'jacirene', 'jacirene', 'jacirene', 'jacirene', 'jacirene',\n",
       "       'jacirene', 'jacirene', 'jacirene', 'jacirene', 'jacirene',\n",
       "       'jacirene', 'jacirene', 'jacirene', 'jacirene', 'jacirene',\n",
       "       'jacirene', 'jacirene', 'jacirene', 'jacirene', 'jacirene',\n",
       "       'jacirene', 'jacirene', 'jacirene', 'jacirene', 'jacirene',\n",
       "       'jacirene', 'jacirene', 'jacirene', 'jacirene', 'jacirene',\n",
       "       'jacirene', 'jacirene', 'jacirene', 'jacirene', 'jacirene',\n",
       "       'jacirene', 'jacirene', 'jacirene', 'jacirene', 'jacirene',\n",
       "       'jacirene', 'jacirene', 'jacirene', 'jacirene', 'jacirene',\n",
       "       'jacirene', 'jacirene', 'jacirene', 'jacirene', 'jacirene',\n",
       "       'jacirene', 'jacirene', 'jacirene', 'jacirene', 'jacirene',\n",
       "       'jacirene', 'jacirene', 'jacirene', 'jacirene', 'jacirene',\n",
       "       'jacirene', 'jacirene', 'jacirene', 'jacirene', 'jacirene',\n",
       "       'jacirene', 'jacirene', 'jacirene', 'jacirene', 'jacirene',\n",
       "       'jacirene', 'jacirene', 'jacirene', 'jacirene', 'jacirene',\n",
       "       'jacirene', 'jacirene', 'jacirene', 'jacirene', 'jacirene',\n",
       "       'jacirene', 'jacirene', 'jacirene', 'jacirene', 'jacirene',\n",
       "       'jacirene', 'jacirene', 'jacirene', 'jacirene', 'jacirene',\n",
       "       'jacirene', 'jacirene', 'jacirene', 'jacirene', 'jacirene',\n",
       "       'jacirene', 'jacirene', 'jacirene', 'jacirene', 'jacirene',\n",
       "       'jacirene', 'jacirene', 'jacirene', 'jacirene', 'jacirene',\n",
       "       'jacirene', 'jacirene', 'jacirene', 'jacirene', 'jacirene',\n",
       "       'jacirene', 'jacirene', 'jacirene', 'jacirene', 'jacirene',\n",
       "       'jacirene', 'jacirene', 'jacirene', 'jacirene', 'jacirene',\n",
       "       'jacirene', 'jacirene', 'jacirene', 'jacirene', 'jacirene',\n",
       "       'jacirene', 'jacirene', 'jacirene', 'jacirene', 'jacirene',\n",
       "       'jacirene', 'jacirene', 'jacirene', 'jacirene', 'jacirene',\n",
       "       'jacirene', 'jacirene', 'jacirene', 'jacirene', 'jacirene',\n",
       "       'jacirene', 'jacirene', 'jacirene', 'jacirene', 'jacirene',\n",
       "       'jacirene', 'jacirene', 'jacirene', 'jacirene', 'jacirene',\n",
       "       'jacirene', 'jacirene', 'jacirene', 'jacirene', 'jacirene',\n",
       "       'jacirene', 'jacirene', 'jacirene', 'jacirene', 'jacirene',\n",
       "       'jacirene', 'jacirene', 'jacirene', 'jacirene', 'jacirene',\n",
       "       'jacirene', 'jacirene', 'jacirene', 'jacirene', 'jacirene',\n",
       "       'jacirene', 'jacirene', 'jacirene', 'jacirene', 'jacirene',\n",
       "       'jacirene', 'jacirene', 'jacirene', 'jacirene', 'jacirene',\n",
       "       'jacirene', 'jacirene', 'jacirene', 'jacirene', 'jacirene',\n",
       "       'jacirene', 'jacirene', 'jacirene', 'jacirene', 'jacirene',\n",
       "       'jacirene', 'jacirene', 'jacirene', 'jacirene', 'jacirene',\n",
       "       'jacirene', 'jacirene', 'jacirene', 'jacirene', 'jacirene',\n",
       "       'jacirene', 'jacirene', 'jacirene', 'jacirene', 'jacirene',\n",
       "       'jacirene', 'jacirene', 'jacirene', 'jacirene', 'jacirene',\n",
       "       'jacirene', 'jacirene', 'jacirene', 'jacirene', 'jacirene',\n",
       "       'jacirene', 'jacirene', 'jacirene', 'jacirene', 'jacirene',\n",
       "       'vagner', 'vagner', 'vagner', 'vagner', 'vagner', 'vagner',\n",
       "       'vagner', 'vagner', 'vagner', 'vagner', 'vagner', 'vagner',\n",
       "       'vagner', 'vagner', 'vagner', 'vagner', 'vagner', 'vagner',\n",
       "       'vagner', 'vagner', 'vagner', 'vagner', 'vagner', 'vagner',\n",
       "       'vagner', 'vagner', 'vagner', 'vagner', 'vagner', 'vagner',\n",
       "       'vagner', 'vagner', 'vagner', 'vagner', 'vagner', 'vagner',\n",
       "       'vagner', 'vagner', 'vagner', 'vagner', 'vagner', 'vagner',\n",
       "       'vagner', 'vagner', 'vagner', 'vagner', 'vagner', 'vagner',\n",
       "       'vagner', 'vagner', 'vagner', 'vagner', 'vagner', 'vagner',\n",
       "       'vagner', 'vagner', 'vagner', 'vagner', 'vagner', 'vagner',\n",
       "       'vagner', 'vagner', 'vagner', 'vagner', 'vagner', 'vagner',\n",
       "       'vagner', 'vagner', 'vagner', 'vagner', 'vagner', 'vagner',\n",
       "       'vagner', 'vagner', 'vagner', 'vagner', 'vagner', 'vagner',\n",
       "       'vagner', 'vagner', 'vagner', 'vagner', 'vagner', 'vagner',\n",
       "       'vagner', 'vagner', 'vagner', 'vagner', 'vagner', 'vagner',\n",
       "       'vagner', 'vagner', 'vagner', 'vagner', 'vagner', 'vagner',\n",
       "       'vagner', 'vagner', 'vagner', 'vagner', 'vagner', 'vagner',\n",
       "       'vagner', 'vagner', 'vagner', 'vagner', 'vagner', 'vagner',\n",
       "       'vagner', 'vagner', 'vagner', 'vagner', 'vagner', 'vagner',\n",
       "       'vagner', 'vagner', 'vagner', 'vagner', 'vagner', 'vagner',\n",
       "       'vagner', 'vagner', 'vagner', 'vagner', 'vagner', 'vagner',\n",
       "       'vagner', 'vagner', 'vagner', 'vagner', 'vagner', 'vagner',\n",
       "       'vagner', 'vagner', 'vagner', 'vagner', 'vagner', 'vagner',\n",
       "       'vagner', 'vagner', 'vagner', 'vagner', 'vagner', 'vagner',\n",
       "       'vagner', 'vagner', 'vagner', 'vagner', 'vagner', 'vagner',\n",
       "       'vagner', 'vagner', 'vagner', 'vagner', 'vagner', 'vagner',\n",
       "       'vagner', 'vagner', 'vagner', 'vagner', 'vagner', 'vagner',\n",
       "       'vagner', 'vagner', 'vagner', 'vagner', 'vagner', 'vagner',\n",
       "       'vagner', 'vagner', 'vagner', 'vagner', 'vagner', 'vagner',\n",
       "       'vagner', 'vagner', 'vagner', 'vagner', 'vagner', 'vagner',\n",
       "       'vagner', 'vagner', 'vagner', 'vagner', 'vagner', 'vagner',\n",
       "       'vagner', 'vagner', 'vagner', 'vagner', 'vagner', 'vagner',\n",
       "       'vagner', 'vagner', 'vagner', 'vagner', 'vagner', 'vagner',\n",
       "       'vagner', 'vagner', 'vagner', 'vagner', 'vagner', 'vagner',\n",
       "       'vagner', 'vagner', 'vagner', 'vagner', 'vagner', 'vagner',\n",
       "       'vagner', 'vagner', 'vagner', 'vagner', 'vagner', 'vagner',\n",
       "       'vagner', 'vagner', 'vagner', 'vagner', 'vagner', 'vagner',\n",
       "       'vagner', 'vagner', 'vagner', 'vagner', 'vagner', 'vagner',\n",
       "       'vagner', 'vagner', 'vagner', 'vagner', 'vagner', 'vagner',\n",
       "       'vagner', 'vagner', 'vagner', 'vagner', 'vagner', 'vagner',\n",
       "       'vagner', 'vagner', 'vagner', 'vagner', 'vagner', 'vagner',\n",
       "       'vagner', 'vagner', 'vagner', 'vagner', 'vagner', 'vagner',\n",
       "       'vagner', 'vagner', 'vagner', 'vagner', 'vagner', 'vagner',\n",
       "       'vagner', 'vagner', 'vagner', 'vagner', 'vagner', 'vagner',\n",
       "       'vagner', 'vagner', 'vagner', 'vagner', 'vagner', 'vigner',\n",
       "       'vigner', 'vigner', 'vigner', 'vigner', 'vigner', 'vigner',\n",
       "       'vigner', 'vigner', 'vigner', 'vigner', 'vigner', 'vigner',\n",
       "       'vigner', 'vigner', 'vigner', 'vigner', 'vigner', 'vigner',\n",
       "       'vigner', 'vigner', 'vigner', 'vigner', 'vigner', 'vigner',\n",
       "       'vigner', 'vigner', 'vigner', 'vigner', 'vigner', 'vigner',\n",
       "       'vigner', 'vigner', 'vigner', 'vigner', 'vigner', 'vigner',\n",
       "       'vigner', 'vigner', 'vigner', 'vigner', 'vigner', 'vigner',\n",
       "       'vigner', 'vigner', 'vigner', 'vigner', 'vigner', 'vigner',\n",
       "       'vigner', 'vigner', 'vigner', 'vigner', 'vigner', 'vigner',\n",
       "       'vigner', 'vigner', 'vigner', 'vigner', 'vigner', 'vigner',\n",
       "       'vigner', 'vigner', 'vigner', 'vigner', 'vigner', 'vigner',\n",
       "       'vigner', 'vigner', 'vigner', 'vigner', 'vigner', 'vigner',\n",
       "       'vigner', 'vigner', 'vigner', 'vigner', 'vigner', 'vigner',\n",
       "       'vigner', 'vigner', 'vigner', 'vigner', 'vigner', 'vigner',\n",
       "       'vigner', 'vigner', 'vigner', 'vigner', 'vigner', 'vigner',\n",
       "       'vigner', 'vigner', 'vigner', 'vigner', 'vigner', 'vigner',\n",
       "       'vigner', 'vigner', 'vigner', 'vigner', 'vigner', 'vigner',\n",
       "       'vigner', 'vigner', 'vigner', 'vigner', 'vigner', 'vigner',\n",
       "       'vigner', 'vigner', 'vigner', 'vigner', 'vigner', 'vigner',\n",
       "       'vigner', 'vigner', 'vigner', 'vigner', 'vigner', 'vigner',\n",
       "       'vigner', 'vigner', 'vigner', 'vigner', 'vigner', 'vigner',\n",
       "       'vigner', 'vigner', 'vigner', 'vigner', 'vigner', 'vigner',\n",
       "       'vigner', 'vigner', 'vigner', 'vigner', 'vigner', 'vigner',\n",
       "       'vigner', 'vigner', 'vigner', 'vigner', 'vigner', 'vigner',\n",
       "       'vigner', 'vigner', 'vigner', 'vigner', 'vigner', 'vigner',\n",
       "       'vigner', 'vigner', 'vigner', 'vigner', 'vigner', 'vigner',\n",
       "       'vigner', 'vigner', 'vigner', 'vigner', 'vigner', 'vigner',\n",
       "       'vigner', 'vigner', 'vigner', 'vigner', 'vigner', 'vigner',\n",
       "       'vigner', 'vigner', 'vigner', 'vigner', 'vigner', 'vigner',\n",
       "       'vigner', 'vigner', 'vigner', 'vigner', 'vigner', 'vigner',\n",
       "       'vigner', 'vigner', 'vigner', 'vigner', 'vigner', 'vigner',\n",
       "       'vigner', 'vigner', 'vigner', 'vigner', 'vigner', 'vigner',\n",
       "       'vigner', 'vigner', 'vigner', 'vigner', 'vigner', 'vigner',\n",
       "       'vigner', 'vigner', 'vigner', 'vigner', 'vigner', 'vigner',\n",
       "       'vigner', 'vigner', 'vigner', 'vigner', 'vigner'], dtype=object)"
      ]
     },
     "execution_count": 7,
     "metadata": {},
     "output_type": "execute_result"
    }
   ],
   "source": [
    "y"
   ]
  },
  {
   "cell_type": "code",
   "execution_count": 8,
   "id": "7563c5f9",
   "metadata": {},
   "outputs": [
    {
     "data": {
      "text/plain": [
       "(719,)"
      ]
     },
     "execution_count": 8,
     "metadata": {},
     "output_type": "execute_result"
    }
   ],
   "source": [
    "y.shape"
   ]
  },
  {
   "cell_type": "code",
   "execution_count": 9,
   "id": "fe2e2780",
   "metadata": {},
   "outputs": [],
   "source": [
    "#embaralhamento dos dados\n",
    "from sklearn.utils import shuffle"
   ]
  },
  {
   "cell_type": "code",
   "execution_count": 10,
   "id": "6b0657ba",
   "metadata": {},
   "outputs": [],
   "source": [
    "train_X, train_Y = shuffle(X, y, random_state=0)"
   ]
  },
  {
   "cell_type": "code",
   "execution_count": 11,
   "id": "400ff1df",
   "metadata": {},
   "outputs": [],
   "source": [
    "#np.unique(train_Y)"
   ]
  },
  {
   "cell_type": "code",
   "execution_count": 12,
   "id": "3e3a94a4",
   "metadata": {},
   "outputs": [],
   "source": [
    "#tratar labels\n",
    "from sklearn.preprocessing import LabelEncoder"
   ]
  },
  {
   "cell_type": "code",
   "execution_count": 13,
   "id": "516aa06e",
   "metadata": {},
   "outputs": [],
   "source": [
    "out_encoder = LabelEncoder()"
   ]
  },
  {
   "cell_type": "code",
   "execution_count": 14,
   "id": "3d85a707",
   "metadata": {},
   "outputs": [
    {
     "data": {
      "text/plain": [
       "LabelEncoder()"
      ]
     },
     "execution_count": 14,
     "metadata": {},
     "output_type": "execute_result"
    }
   ],
   "source": [
    "out_encoder.fit(train_Y)"
   ]
  },
  {
   "cell_type": "code",
   "execution_count": 15,
   "id": "a08540d8",
   "metadata": {},
   "outputs": [],
   "source": [
    "# processo de discretização\n",
    "train_Y = out_encoder.transform(train_Y)"
   ]
  },
  {
   "cell_type": "code",
   "execution_count": 16,
   "id": "e0ce3d32",
   "metadata": {},
   "outputs": [
    {
     "data": {
      "text/plain": [
       "array([1, 2, 1, 0, 1, 1, 2, 0, 1, 0, 0, 2, 1, 1, 2, 0, 1, 2, 2, 2, 0, 1,\n",
       "       0, 2, 1, 2, 2, 0, 1, 0, 0, 2, 2, 0, 1, 1, 0, 2, 1, 2, 2, 2, 2, 0,\n",
       "       2, 2, 2, 2, 1, 1, 1, 1, 0, 2, 1, 2, 1, 2, 2, 0, 0, 2, 1, 1, 1, 0,\n",
       "       1, 2, 1, 0, 1, 1, 1, 1, 0, 0, 2, 0, 0, 2, 1, 1, 2, 0, 0, 0, 1, 2,\n",
       "       1, 1, 0, 1, 1, 1, 2, 0, 1, 1, 2, 1, 0, 1, 0, 2, 1, 0, 1, 1, 2, 2,\n",
       "       0, 2, 0, 0, 1, 1, 0, 1, 1, 0, 0, 2, 1, 0, 1, 1, 1, 0, 1, 1, 0, 2,\n",
       "       1, 0, 1, 1, 0, 0, 1, 1, 1, 0, 1, 2, 1, 0, 0, 1, 1, 1, 1, 1, 2, 1,\n",
       "       1, 1, 0, 1, 0, 1, 2, 1, 0, 2, 2, 0, 1, 1, 1, 0, 0, 1, 2, 0, 2, 2,\n",
       "       1, 0, 2, 1, 0, 2, 0, 1, 1, 1, 2, 1, 1, 1, 1, 2, 2, 1, 0, 2, 1, 0,\n",
       "       2, 1, 2, 1, 2, 2, 0, 1, 1, 1, 0, 0, 2, 0, 0, 1, 1, 1, 2, 0, 1, 0,\n",
       "       0, 1, 0, 0, 1, 1, 1, 2, 1, 1, 2, 2, 0, 1, 1, 0, 1, 0, 2, 1, 2, 1,\n",
       "       0, 2, 0, 1, 2, 1, 0, 2, 0, 2, 1, 0, 1, 0, 1, 0, 2, 2, 0, 1, 0, 2,\n",
       "       1, 0, 1, 0, 0, 0, 0, 2, 2, 0, 0, 2, 1, 1, 0, 1, 0, 0, 0, 0, 2, 1,\n",
       "       0, 0, 1, 0, 1, 0, 0, 0, 2, 1, 1, 1, 1, 0, 1, 2, 1, 2, 0, 0, 1, 1,\n",
       "       1, 0, 0, 1, 0, 2, 1, 2, 1, 2, 2, 0, 2, 1, 1, 1, 2, 1, 1, 1, 2, 0,\n",
       "       1, 1, 0, 0, 1, 0, 1, 2, 1, 1, 2, 0, 1, 0, 1, 2, 1, 1, 0, 1, 0, 0,\n",
       "       0, 2, 2, 0, 1, 2, 2, 0, 0, 0, 1, 1, 2, 1, 2, 1, 0, 1, 1, 0, 0, 2,\n",
       "       2, 1, 2, 1, 2, 0, 0, 0, 1, 0, 1, 1, 2, 2, 1, 2, 1, 2, 0, 0, 2, 1,\n",
       "       1, 1, 1, 2, 0, 1, 0, 1, 2, 0, 2, 2, 1, 2, 0, 0, 2, 0, 1, 1, 2, 0,\n",
       "       2, 1, 1, 1, 2, 1, 1, 0, 2, 1, 1, 0, 0, 2, 0, 1, 2, 2, 0, 2, 0, 1,\n",
       "       2, 2, 1, 2, 2, 0, 0, 0, 2, 2, 0, 0, 0, 0, 1, 2, 0, 2, 2, 1, 1, 2,\n",
       "       1, 2, 0, 2, 1, 0, 2, 1, 2, 1, 0, 0, 1, 0, 2, 0, 2, 2, 2, 2, 1, 1,\n",
       "       2, 2, 2, 1, 0, 0, 1, 0, 2, 0, 1, 1, 0, 2, 0, 2, 2, 2, 2, 0, 2, 1,\n",
       "       0, 1, 1, 2, 2, 2, 2, 0, 0, 1, 2, 1, 2, 1, 2, 2, 0, 0, 0, 0, 1, 0,\n",
       "       2, 0, 1, 1, 1, 0, 1, 2, 2, 2, 0, 2, 1, 0, 0, 2, 2, 2, 0, 0, 0, 1,\n",
       "       0, 0, 1, 0, 0, 0, 1, 2, 1, 2, 2, 2, 1, 1, 1, 0, 1, 0, 1, 0, 1, 0,\n",
       "       0, 0, 0, 2, 1, 0, 1, 1, 2, 1, 1, 1, 0, 1, 1, 1, 0, 0, 2, 1, 1, 2,\n",
       "       2, 1, 0, 1, 2, 2, 1, 2, 0, 0, 0, 1, 0, 0, 0, 0, 0, 0, 1, 2, 0, 0,\n",
       "       2, 0, 2, 0, 1, 0, 0, 2, 2, 1, 2, 1, 0, 1, 2, 2, 1, 1, 1, 2, 0, 0,\n",
       "       2, 0, 2, 1, 2, 1, 0, 0, 0, 0, 2, 0, 1, 0, 0, 2, 2, 2, 1, 0, 0, 1,\n",
       "       0, 1, 0, 1, 1, 2, 1, 0, 2, 1, 1, 1, 1, 2, 0, 2, 0, 0, 0, 1, 2, 2,\n",
       "       0, 1, 2, 2, 2, 1, 1, 1, 0, 2, 0, 0, 1, 1, 0, 0, 2, 2, 2, 0, 0, 2,\n",
       "       1, 1, 1, 2, 1, 0, 2, 1, 0, 1, 2, 0, 2, 2, 2])"
      ]
     },
     "execution_count": 16,
     "metadata": {},
     "output_type": "execute_result"
    }
   ],
   "source": [
    "train_Y\n",
    "#np.unique(train_Y)"
   ]
  },
  {
   "cell_type": "code",
   "execution_count": 17,
   "id": "493c0b92",
   "metadata": {},
   "outputs": [],
   "source": [
    "# carregar dataset/embedding para validação\n",
    "#data_validacao = pd.read_csv('faces_treinamento_validacao_mascara3classes.csv')\n",
    "data_validacao = pd.read_csv('     ')#diretorio do embedding de validação"
   ]
  },
  {
   "cell_type": "code",
   "execution_count": 18,
   "id": "91140993",
   "metadata": {},
   "outputs": [
    {
     "data": {
      "text/html": [
       "<div>\n",
       "<style scoped>\n",
       "    .dataframe tbody tr th:only-of-type {\n",
       "        vertical-align: middle;\n",
       "    }\n",
       "\n",
       "    .dataframe tbody tr th {\n",
       "        vertical-align: top;\n",
       "    }\n",
       "\n",
       "    .dataframe thead th {\n",
       "        text-align: right;\n",
       "    }\n",
       "</style>\n",
       "<table border=\"1\" class=\"dataframe\">\n",
       "  <thead>\n",
       "    <tr style=\"text-align: right;\">\n",
       "      <th></th>\n",
       "      <th>0</th>\n",
       "      <th>1</th>\n",
       "      <th>2</th>\n",
       "      <th>3</th>\n",
       "      <th>4</th>\n",
       "      <th>5</th>\n",
       "      <th>6</th>\n",
       "      <th>7</th>\n",
       "      <th>8</th>\n",
       "      <th>9</th>\n",
       "      <th>...</th>\n",
       "      <th>119</th>\n",
       "      <th>120</th>\n",
       "      <th>121</th>\n",
       "      <th>122</th>\n",
       "      <th>123</th>\n",
       "      <th>124</th>\n",
       "      <th>125</th>\n",
       "      <th>126</th>\n",
       "      <th>127</th>\n",
       "      <th>target</th>\n",
       "    </tr>\n",
       "  </thead>\n",
       "  <tbody>\n",
       "    <tr>\n",
       "      <th>0</th>\n",
       "      <td>0.150799</td>\n",
       "      <td>-1.355567</td>\n",
       "      <td>0.809186</td>\n",
       "      <td>-0.702185</td>\n",
       "      <td>-0.776968</td>\n",
       "      <td>1.189116</td>\n",
       "      <td>2.606836</td>\n",
       "      <td>-1.062158</td>\n",
       "      <td>-1.041061</td>\n",
       "      <td>1.421914</td>\n",
       "      <td>...</td>\n",
       "      <td>0.245804</td>\n",
       "      <td>1.861589</td>\n",
       "      <td>1.695111</td>\n",
       "      <td>-0.016872</td>\n",
       "      <td>0.304749</td>\n",
       "      <td>1.818091</td>\n",
       "      <td>-0.855137</td>\n",
       "      <td>0.756842</td>\n",
       "      <td>-1.221091</td>\n",
       "      <td>jacirene</td>\n",
       "    </tr>\n",
       "    <tr>\n",
       "      <th>1</th>\n",
       "      <td>0.272369</td>\n",
       "      <td>-1.053090</td>\n",
       "      <td>0.814439</td>\n",
       "      <td>-0.425144</td>\n",
       "      <td>-0.732594</td>\n",
       "      <td>1.133828</td>\n",
       "      <td>2.647105</td>\n",
       "      <td>-1.059213</td>\n",
       "      <td>-0.950887</td>\n",
       "      <td>1.655893</td>\n",
       "      <td>...</td>\n",
       "      <td>0.186520</td>\n",
       "      <td>2.069141</td>\n",
       "      <td>1.378518</td>\n",
       "      <td>0.022766</td>\n",
       "      <td>0.041538</td>\n",
       "      <td>1.519856</td>\n",
       "      <td>-0.668102</td>\n",
       "      <td>0.520375</td>\n",
       "      <td>-1.315673</td>\n",
       "      <td>jacirene</td>\n",
       "    </tr>\n",
       "    <tr>\n",
       "      <th>2</th>\n",
       "      <td>0.757964</td>\n",
       "      <td>-0.962527</td>\n",
       "      <td>0.107189</td>\n",
       "      <td>-0.342687</td>\n",
       "      <td>-0.866822</td>\n",
       "      <td>1.553895</td>\n",
       "      <td>2.169963</td>\n",
       "      <td>-0.822749</td>\n",
       "      <td>-0.989109</td>\n",
       "      <td>1.763270</td>\n",
       "      <td>...</td>\n",
       "      <td>0.323074</td>\n",
       "      <td>2.151340</td>\n",
       "      <td>1.294967</td>\n",
       "      <td>-0.260668</td>\n",
       "      <td>0.138429</td>\n",
       "      <td>1.480330</td>\n",
       "      <td>-0.991390</td>\n",
       "      <td>-0.093423</td>\n",
       "      <td>-1.787932</td>\n",
       "      <td>jacirene</td>\n",
       "    </tr>\n",
       "    <tr>\n",
       "      <th>3</th>\n",
       "      <td>0.889937</td>\n",
       "      <td>-0.538820</td>\n",
       "      <td>0.795769</td>\n",
       "      <td>-0.812134</td>\n",
       "      <td>-1.012902</td>\n",
       "      <td>1.136426</td>\n",
       "      <td>2.379252</td>\n",
       "      <td>-0.613148</td>\n",
       "      <td>-0.489753</td>\n",
       "      <td>1.846717</td>\n",
       "      <td>...</td>\n",
       "      <td>-0.121640</td>\n",
       "      <td>2.152754</td>\n",
       "      <td>1.648154</td>\n",
       "      <td>-0.224858</td>\n",
       "      <td>-0.546717</td>\n",
       "      <td>0.985630</td>\n",
       "      <td>0.051532</td>\n",
       "      <td>-0.310695</td>\n",
       "      <td>-1.479196</td>\n",
       "      <td>jacirene</td>\n",
       "    </tr>\n",
       "    <tr>\n",
       "      <th>4</th>\n",
       "      <td>0.793361</td>\n",
       "      <td>-0.420146</td>\n",
       "      <td>0.553243</td>\n",
       "      <td>-0.866285</td>\n",
       "      <td>-1.011729</td>\n",
       "      <td>1.100426</td>\n",
       "      <td>2.358246</td>\n",
       "      <td>-0.493003</td>\n",
       "      <td>-0.529484</td>\n",
       "      <td>1.668563</td>\n",
       "      <td>...</td>\n",
       "      <td>-0.030013</td>\n",
       "      <td>2.239774</td>\n",
       "      <td>1.831219</td>\n",
       "      <td>-0.216175</td>\n",
       "      <td>-0.404676</td>\n",
       "      <td>0.664096</td>\n",
       "      <td>0.212920</td>\n",
       "      <td>-0.556993</td>\n",
       "      <td>-1.598072</td>\n",
       "      <td>jacirene</td>\n",
       "    </tr>\n",
       "    <tr>\n",
       "      <th>...</th>\n",
       "      <td>...</td>\n",
       "      <td>...</td>\n",
       "      <td>...</td>\n",
       "      <td>...</td>\n",
       "      <td>...</td>\n",
       "      <td>...</td>\n",
       "      <td>...</td>\n",
       "      <td>...</td>\n",
       "      <td>...</td>\n",
       "      <td>...</td>\n",
       "      <td>...</td>\n",
       "      <td>...</td>\n",
       "      <td>...</td>\n",
       "      <td>...</td>\n",
       "      <td>...</td>\n",
       "      <td>...</td>\n",
       "      <td>...</td>\n",
       "      <td>...</td>\n",
       "      <td>...</td>\n",
       "      <td>...</td>\n",
       "      <td>...</td>\n",
       "    </tr>\n",
       "    <tr>\n",
       "      <th>170</th>\n",
       "      <td>-0.350880</td>\n",
       "      <td>-0.051455</td>\n",
       "      <td>0.186994</td>\n",
       "      <td>-0.423196</td>\n",
       "      <td>-0.758965</td>\n",
       "      <td>0.474669</td>\n",
       "      <td>0.366640</td>\n",
       "      <td>0.359503</td>\n",
       "      <td>0.858606</td>\n",
       "      <td>0.215975</td>\n",
       "      <td>...</td>\n",
       "      <td>-0.610038</td>\n",
       "      <td>1.238447</td>\n",
       "      <td>-0.164718</td>\n",
       "      <td>-0.415284</td>\n",
       "      <td>-1.470694</td>\n",
       "      <td>-0.747273</td>\n",
       "      <td>-2.504229</td>\n",
       "      <td>0.089796</td>\n",
       "      <td>-1.436090</td>\n",
       "      <td>vigner</td>\n",
       "    </tr>\n",
       "    <tr>\n",
       "      <th>171</th>\n",
       "      <td>-0.645098</td>\n",
       "      <td>-0.087482</td>\n",
       "      <td>0.298675</td>\n",
       "      <td>-0.038904</td>\n",
       "      <td>-0.474693</td>\n",
       "      <td>0.256364</td>\n",
       "      <td>0.368724</td>\n",
       "      <td>0.207916</td>\n",
       "      <td>0.849729</td>\n",
       "      <td>-0.007967</td>\n",
       "      <td>...</td>\n",
       "      <td>-0.445193</td>\n",
       "      <td>1.475472</td>\n",
       "      <td>-0.316973</td>\n",
       "      <td>-0.356850</td>\n",
       "      <td>-1.500455</td>\n",
       "      <td>-0.638712</td>\n",
       "      <td>-2.486361</td>\n",
       "      <td>-0.158046</td>\n",
       "      <td>-1.229663</td>\n",
       "      <td>vigner</td>\n",
       "    </tr>\n",
       "    <tr>\n",
       "      <th>172</th>\n",
       "      <td>-0.402652</td>\n",
       "      <td>-0.157640</td>\n",
       "      <td>0.073034</td>\n",
       "      <td>0.062314</td>\n",
       "      <td>-0.736359</td>\n",
       "      <td>0.185738</td>\n",
       "      <td>0.337253</td>\n",
       "      <td>0.492155</td>\n",
       "      <td>0.735020</td>\n",
       "      <td>0.089644</td>\n",
       "      <td>...</td>\n",
       "      <td>-0.764324</td>\n",
       "      <td>1.341134</td>\n",
       "      <td>-0.211245</td>\n",
       "      <td>-0.701538</td>\n",
       "      <td>-1.400666</td>\n",
       "      <td>-0.762002</td>\n",
       "      <td>-2.397657</td>\n",
       "      <td>-0.038388</td>\n",
       "      <td>-1.464255</td>\n",
       "      <td>vigner</td>\n",
       "    </tr>\n",
       "    <tr>\n",
       "      <th>173</th>\n",
       "      <td>-0.294901</td>\n",
       "      <td>-0.218431</td>\n",
       "      <td>0.142938</td>\n",
       "      <td>0.023330</td>\n",
       "      <td>-0.638594</td>\n",
       "      <td>0.462758</td>\n",
       "      <td>0.433290</td>\n",
       "      <td>0.265173</td>\n",
       "      <td>0.804117</td>\n",
       "      <td>0.414249</td>\n",
       "      <td>...</td>\n",
       "      <td>-0.755318</td>\n",
       "      <td>1.364890</td>\n",
       "      <td>-0.301176</td>\n",
       "      <td>-0.333791</td>\n",
       "      <td>-1.536226</td>\n",
       "      <td>-0.719902</td>\n",
       "      <td>-2.434790</td>\n",
       "      <td>0.233304</td>\n",
       "      <td>-1.242533</td>\n",
       "      <td>vigner</td>\n",
       "    </tr>\n",
       "    <tr>\n",
       "      <th>174</th>\n",
       "      <td>-0.309649</td>\n",
       "      <td>-0.258378</td>\n",
       "      <td>-0.254885</td>\n",
       "      <td>0.136946</td>\n",
       "      <td>-0.951282</td>\n",
       "      <td>0.518793</td>\n",
       "      <td>0.492390</td>\n",
       "      <td>0.338454</td>\n",
       "      <td>0.671547</td>\n",
       "      <td>0.388505</td>\n",
       "      <td>...</td>\n",
       "      <td>-0.719229</td>\n",
       "      <td>2.080542</td>\n",
       "      <td>-0.214304</td>\n",
       "      <td>-0.400063</td>\n",
       "      <td>-1.612052</td>\n",
       "      <td>-1.027700</td>\n",
       "      <td>-2.510642</td>\n",
       "      <td>0.121894</td>\n",
       "      <td>-1.289212</td>\n",
       "      <td>vigner</td>\n",
       "    </tr>\n",
       "  </tbody>\n",
       "</table>\n",
       "<p>175 rows × 129 columns</p>\n",
       "</div>"
      ],
      "text/plain": [
       "            0         1         2         3         4         5         6  \\\n",
       "0    0.150799 -1.355567  0.809186 -0.702185 -0.776968  1.189116  2.606836   \n",
       "1    0.272369 -1.053090  0.814439 -0.425144 -0.732594  1.133828  2.647105   \n",
       "2    0.757964 -0.962527  0.107189 -0.342687 -0.866822  1.553895  2.169963   \n",
       "3    0.889937 -0.538820  0.795769 -0.812134 -1.012902  1.136426  2.379252   \n",
       "4    0.793361 -0.420146  0.553243 -0.866285 -1.011729  1.100426  2.358246   \n",
       "..        ...       ...       ...       ...       ...       ...       ...   \n",
       "170 -0.350880 -0.051455  0.186994 -0.423196 -0.758965  0.474669  0.366640   \n",
       "171 -0.645098 -0.087482  0.298675 -0.038904 -0.474693  0.256364  0.368724   \n",
       "172 -0.402652 -0.157640  0.073034  0.062314 -0.736359  0.185738  0.337253   \n",
       "173 -0.294901 -0.218431  0.142938  0.023330 -0.638594  0.462758  0.433290   \n",
       "174 -0.309649 -0.258378 -0.254885  0.136946 -0.951282  0.518793  0.492390   \n",
       "\n",
       "            7         8         9  ...       119       120       121  \\\n",
       "0   -1.062158 -1.041061  1.421914  ...  0.245804  1.861589  1.695111   \n",
       "1   -1.059213 -0.950887  1.655893  ...  0.186520  2.069141  1.378518   \n",
       "2   -0.822749 -0.989109  1.763270  ...  0.323074  2.151340  1.294967   \n",
       "3   -0.613148 -0.489753  1.846717  ... -0.121640  2.152754  1.648154   \n",
       "4   -0.493003 -0.529484  1.668563  ... -0.030013  2.239774  1.831219   \n",
       "..        ...       ...       ...  ...       ...       ...       ...   \n",
       "170  0.359503  0.858606  0.215975  ... -0.610038  1.238447 -0.164718   \n",
       "171  0.207916  0.849729 -0.007967  ... -0.445193  1.475472 -0.316973   \n",
       "172  0.492155  0.735020  0.089644  ... -0.764324  1.341134 -0.211245   \n",
       "173  0.265173  0.804117  0.414249  ... -0.755318  1.364890 -0.301176   \n",
       "174  0.338454  0.671547  0.388505  ... -0.719229  2.080542 -0.214304   \n",
       "\n",
       "          122       123       124       125       126       127    target  \n",
       "0   -0.016872  0.304749  1.818091 -0.855137  0.756842 -1.221091  jacirene  \n",
       "1    0.022766  0.041538  1.519856 -0.668102  0.520375 -1.315673  jacirene  \n",
       "2   -0.260668  0.138429  1.480330 -0.991390 -0.093423 -1.787932  jacirene  \n",
       "3   -0.224858 -0.546717  0.985630  0.051532 -0.310695 -1.479196  jacirene  \n",
       "4   -0.216175 -0.404676  0.664096  0.212920 -0.556993 -1.598072  jacirene  \n",
       "..        ...       ...       ...       ...       ...       ...       ...  \n",
       "170 -0.415284 -1.470694 -0.747273 -2.504229  0.089796 -1.436090    vigner  \n",
       "171 -0.356850 -1.500455 -0.638712 -2.486361 -0.158046 -1.229663    vigner  \n",
       "172 -0.701538 -1.400666 -0.762002 -2.397657 -0.038388 -1.464255    vigner  \n",
       "173 -0.333791 -1.536226 -0.719902 -2.434790  0.233304 -1.242533    vigner  \n",
       "174 -0.400063 -1.612052 -1.027700 -2.510642  0.121894 -1.289212    vigner  \n",
       "\n",
       "[175 rows x 129 columns]"
      ]
     },
     "execution_count": 18,
     "metadata": {},
     "output_type": "execute_result"
    }
   ],
   "source": [
    "data_validacao"
   ]
  },
  {
   "cell_type": "code",
   "execution_count": 19,
   "id": "29e1f44c",
   "metadata": {},
   "outputs": [],
   "source": [
    "valX = np.array(data_validacao.drop(\"target\", axis = 1))\n",
    "valY =  np.array(data_validacao.target)"
   ]
  },
  {
   "cell_type": "code",
   "execution_count": 20,
   "id": "281af700",
   "metadata": {},
   "outputs": [],
   "source": [
    "#np.unique(valY)"
   ]
  },
  {
   "cell_type": "code",
   "execution_count": 21,
   "id": "8be7f205",
   "metadata": {},
   "outputs": [
    {
     "data": {
      "text/plain": [
       "LabelEncoder()"
      ]
     },
     "execution_count": 21,
     "metadata": {},
     "output_type": "execute_result"
    }
   ],
   "source": [
    "out_encoder.fit(valY)"
   ]
  },
  {
   "cell_type": "code",
   "execution_count": 22,
   "id": "390d0652",
   "metadata": {},
   "outputs": [],
   "source": [
    "valY = out_encoder.transform(valY)"
   ]
  },
  {
   "cell_type": "code",
   "execution_count": 23,
   "id": "11ca0061",
   "metadata": {},
   "outputs": [
    {
     "data": {
      "text/plain": [
       "array([0, 0, 0, 0, 0, 0, 0, 0, 0, 0, 0, 0, 0, 0, 0, 0, 0, 0, 0, 0, 0, 0,\n",
       "       0, 0, 0, 0, 0, 0, 0, 0, 0, 0, 0, 0, 0, 0, 0, 0, 0, 0, 0, 0, 0, 0,\n",
       "       0, 0, 0, 0, 0, 0, 0, 0, 0, 0, 0, 1, 1, 1, 1, 1, 1, 1, 1, 1, 1, 1,\n",
       "       1, 1, 1, 1, 1, 1, 1, 1, 1, 1, 1, 1, 1, 1, 1, 1, 1, 1, 1, 1, 1, 1,\n",
       "       1, 1, 1, 1, 1, 1, 1, 2, 2, 2, 2, 2, 2, 2, 2, 2, 2, 2, 2, 2, 2, 2,\n",
       "       2, 2, 2, 2, 2, 2, 2, 2, 2, 2, 2, 2, 2, 2, 2, 2, 2, 2, 2, 2, 2, 2,\n",
       "       2, 2, 2, 2, 2, 2, 2, 2, 2, 2, 2, 2, 2, 2, 2, 2, 2, 2, 2, 2, 2, 2,\n",
       "       2, 2, 2, 2, 2, 2, 2, 2, 2, 2, 2, 2, 2, 2, 2, 2, 2, 2, 2, 2, 2])"
      ]
     },
     "execution_count": 23,
     "metadata": {},
     "output_type": "execute_result"
    }
   ],
   "source": [
    "valY"
   ]
  },
  {
   "cell_type": "code",
   "execution_count": null,
   "id": "d146b553",
   "metadata": {},
   "outputs": [],
   "source": []
  },
  {
   "cell_type": "code",
   "execution_count": 24,
   "id": "a3b9d357",
   "metadata": {},
   "outputs": [],
   "source": [
    "from sklearn.metrics import confusion_matrix"
   ]
  },
  {
   "cell_type": "code",
   "execution_count": 25,
   "id": "b012df9b",
   "metadata": {},
   "outputs": [],
   "source": [
    "def pr_confusion_matrix(model_name, valY, yhat_val):\n",
    "    \n",
    "    conf_mat = confusion_matrix(valY, yhat_val)\n",
    "    total = sum(sum(conf_mat))\n",
    "    sensitivity = conf_mat[0, 0]/(conf_mat[0, 0] + conf_mat[0, 1])\n",
    "    specificity = conf_mat[1, 1]/(conf_mat[1, 0] + conf_mat[1, 1])\n",
    "    accuracy = (conf_mat[0, 0] + conf_mat[1, 1])/total\n",
    "    \n",
    "    print(\"MODELO: {}\".format(model_name))\n",
    "    print(\"Acurácia: {:.3f}\".format(accuracy))\n",
    "    print(\"Sensitividade: {:.3f}\".format(sensitivity))\n",
    "    print(\"Especificidade: {:.3f}\".format(specificity))\n",
    "    \n",
    "    from mlxtend.plotting import plot_confusion_matrix\n",
    "    fig, ax = plot_confusion_matrix(conf_mat=conf_mat, figsize=(5,5))\n",
    "    plt.show()"
   ]
  },
  {
   "cell_type": "code",
   "execution_count": 26,
   "id": "c587dba4",
   "metadata": {},
   "outputs": [],
   "source": [
    "#classificador KNN\n",
    "from sklearn.neighbors import KNeighborsClassifier"
   ]
  },
  {
   "cell_type": "code",
   "execution_count": 27,
   "id": "7f82ef2a",
   "metadata": {},
   "outputs": [],
   "source": [
    "knn = KNeighborsClassifier(n_neighbors = 3)"
   ]
  },
  {
   "cell_type": "code",
   "execution_count": 28,
   "id": "f1a09203",
   "metadata": {},
   "outputs": [
    {
     "data": {
      "text/plain": [
       "KNeighborsClassifier(n_neighbors=6)"
      ]
     },
     "execution_count": 28,
     "metadata": {},
     "output_type": "execute_result"
    }
   ],
   "source": [
    "knn.fit(train_X, train_Y)"
   ]
  },
  {
   "cell_type": "code",
   "execution_count": 29,
   "id": "fd2d1565",
   "metadata": {},
   "outputs": [],
   "source": [
    "yhat_train = knn.predict(train_X)\n",
    "yhat_val =  knn.predict(valX)"
   ]
  },
  {
   "cell_type": "code",
   "execution_count": 30,
   "id": "429532aa",
   "metadata": {},
   "outputs": [
    {
     "data": {
      "text/plain": [
       "array([0, 0, 0, 0, 0, 0, 0, 0, 0, 0, 0, 0, 0, 0, 0, 0, 0, 0, 0, 0, 0, 0,\n",
       "       0, 0, 0, 0, 0, 0, 0, 0, 0, 0, 0, 0, 0, 0, 0, 0, 0, 0, 0, 0, 0, 0,\n",
       "       0, 0, 0, 0, 0, 0, 0, 0, 0, 0, 0, 1, 1, 1, 1, 1, 1, 1, 1, 1, 1, 1,\n",
       "       1, 1, 1, 1, 1, 1, 1, 1, 1, 1, 1, 1, 1, 1, 1, 1, 1, 1, 1, 1, 1, 1,\n",
       "       1, 1, 1, 1, 1, 1, 1, 2, 2, 2, 2, 2, 2, 2, 2, 2, 2, 2, 2, 2, 2, 2,\n",
       "       2, 2, 2, 2, 2, 2, 2, 2, 2, 2, 2, 2, 2, 2, 2, 2, 2, 2, 2, 2, 2, 2,\n",
       "       2, 2, 2, 2, 2, 2, 2, 2, 2, 2, 2, 2, 2, 2, 2, 2, 2, 2, 2, 2, 2, 2,\n",
       "       2, 2, 2, 2, 2, 2, 2, 2, 2, 2, 2, 2, 2, 2, 2, 2, 2, 2, 2, 2, 2])"
      ]
     },
     "execution_count": 30,
     "metadata": {},
     "output_type": "execute_result"
    }
   ],
   "source": [
    "yhat_val"
   ]
  },
  {
   "cell_type": "code",
   "execution_count": 31,
   "id": "17ef3003",
   "metadata": {},
   "outputs": [
    {
     "name": "stdout",
     "output_type": "stream",
     "text": [
      "MODELO: KNN\n",
      "Sensitividade: 1.000\n",
      "Acurácia: 0.543\n",
      "Especificidade: 1.000\n"
     ]
    },
    {
     "data": {
      "image/png": "[encoded data removed]",
      "text/plain": [
       "<Figure size 360x360 with 1 Axes>"
      ]
     },
     "metadata": {
      "needs_background": "light"
     },
     "output_type": "display_data"
    }
   ],
   "source": [
    "pr_confusion_matrix(\"KNN\", valY, yhat_val)"
   ]
  },
  {
   "cell_type": "code",
   "execution_count": 32,
   "id": "99f18997",
   "metadata": {},
   "outputs": [],
   "source": [
    "#classificador SVM\n",
    "from sklearn import svm"
   ]
  },
  {
   "cell_type": "code",
   "execution_count": 33,
   "id": "7f252f63",
   "metadata": {},
   "outputs": [],
   "source": [
    "svm = svm.SVC()"
   ]
  },
  {
   "cell_type": "code",
   "execution_count": 34,
   "id": "2729da99",
   "metadata": {},
   "outputs": [
    {
     "data": {
      "text/plain": [
       "SVC()"
      ]
     },
     "execution_count": 34,
     "metadata": {},
     "output_type": "execute_result"
    }
   ],
   "source": [
    "svm.fit(train_X, train_Y)"
   ]
  },
  {
   "cell_type": "code",
   "execution_count": 35,
   "id": "80cfc67b",
   "metadata": {},
   "outputs": [],
   "source": [
    "yhat_train = svm.predict(train_X)\n",
    "yhat_val =  svm.predict(valX)"
   ]
  },
  {
   "cell_type": "code",
   "execution_count": 36,
   "id": "3b462325",
   "metadata": {},
   "outputs": [
    {
     "name": "stdout",
     "output_type": "stream",
     "text": [
      "MODELO: SVM\n",
      "Sensitividade: 1.000\n",
      "Acurácia: 0.543\n",
      "Especificidade: 1.000\n"
     ]
    },
    {
     "data": {
      "image/png": "[encoded data removed]",
      "text/plain": [
       "<Figure size 360x360 with 1 Axes>"
      ]
     },
     "metadata": {
      "needs_background": "light"
     },
     "output_type": "display_data"
    }
   ],
   "source": [
    "pr_confusion_matrix(\"SVM\", valY, yhat_val)"
   ]
  },
  {
   "cell_type": "code",
   "execution_count": 37,
   "id": "ebfbc98f",
   "metadata": {},
   "outputs": [],
   "source": [
    "#classificador Rede Neural Keras"
   ]
  },
  {
   "cell_type": "code",
   "execution_count": 38,
   "id": "b58a7334",
   "metadata": {},
   "outputs": [],
   "source": [
    "from tensorflow.keras.utils import to_categorical"
   ]
  },
  {
   "cell_type": "code",
   "execution_count": 39,
   "id": "806aae28",
   "metadata": {},
   "outputs": [],
   "source": [
    "train_Y = to_categorical(train_Y)"
   ]
  },
  {
   "cell_type": "code",
   "execution_count": 40,
   "id": "142b6aac",
   "metadata": {},
   "outputs": [],
   "source": [
    "valY = to_categorical(valY) "
   ]
  },
  {
   "cell_type": "code",
   "execution_count": 41,
   "id": "073cbdfd",
   "metadata": {},
   "outputs": [],
   "source": [
    "from tensorflow.keras import models\n",
    "from tensorflow.keras import layers"
   ]
  },
  {
   "cell_type": "code",
   "execution_count": 42,
   "id": "6e22320b",
   "metadata": {},
   "outputs": [],
   "source": [
    "model = models.Sequential()\n",
    "model.add(layers.Dense(128, activation = \"relu\", input_shape = (128, )))\n",
    "model.add(layers.Dropout(0.5))\n",
    "model.add(layers.Dense(3,activation=\"softmax\")) #especificar o número de classes(pessoas) "
   ]
  },
  {
   "cell_type": "code",
   "execution_count": 43,
   "id": "57926d96",
   "metadata": {
    "scrolled": true
   },
   "outputs": [
    {
     "name": "stdout",
     "output_type": "stream",
     "text": [
      "Model: \"sequential\"\n",
      "_________________________________________________________________\n",
      "Layer (type)                 Output Shape              Param #   \n",
      "=================================================================\n",
      "dense (Dense)                (None, 64)                8256      \n",
      "_________________________________________________________________\n",
      "dropout (Dropout)            (None, 64)                0         \n",
      "_________________________________________________________________\n",
      "dense_1 (Dense)              (None, 3)                 195       \n",
      "=================================================================\n",
      "Total params: 8,451\n",
      "Trainable params: 8,451\n",
      "Non-trainable params: 0\n",
      "_________________________________________________________________\n"
     ]
    }
   ],
   "source": [
    "model.summary()"
   ]
  },
  {
   "cell_type": "code",
   "execution_count": 44,
   "id": "f5dd4327",
   "metadata": {},
   "outputs": [],
   "source": [
    "model.compile(optimizer = 'rmsprop', \n",
    "              loss = 'categorical_crossentropy', \n",
    "              metrics = ['accuracy'])"
   ]
  },
  {
   "cell_type": "code",
   "execution_count": 45,
   "id": "5bd31197",
   "metadata": {},
   "outputs": [
    {
     "name": "stdout",
     "output_type": "stream",
     "text": [
      "Epoch 1/56\n",
      "90/90 [==============================] - 0s 1ms/step - loss: 0.1758 - accuracy: 0.9277\n",
      "Epoch 2/56\n",
      "90/90 [==============================] - 0s 1ms/step - loss: 0.0075 - accuracy: 0.9986\n",
      "Epoch 3/56\n",
      "90/90 [==============================] - 0s 1ms/step - loss: 0.0014 - accuracy: 1.0000\n",
      "Epoch 4/56\n",
      "90/90 [==============================] - 0s 1ms/step - loss: 5.4381e-04 - accuracy: 1.0000\n",
      "Epoch 5/56\n",
      "90/90 [==============================] - 0s 1ms/step - loss: 8.7927e-05 - accuracy: 1.0000\n",
      "Epoch 6/56\n",
      "90/90 [==============================] - 0s 1ms/step - loss: 6.3929e-05 - accuracy: 1.0000\n",
      "Epoch 7/56\n",
      "90/90 [==============================] - 0s 1ms/step - loss: 3.0857e-05 - accuracy: 1.0000\n",
      "Epoch 8/56\n",
      "90/90 [==============================] - 0s 1ms/step - loss: 5.3810e-05 - accuracy: 1.0000\n",
      "Epoch 9/56\n",
      "90/90 [==============================] - 0s 1ms/step - loss: 1.7890e-05 - accuracy: 1.0000\n",
      "Epoch 10/56\n",
      "90/90 [==============================] - 0s 951us/step - loss: 5.4865e-05 - accuracy: 1.0000\n",
      "Epoch 11/56\n",
      "90/90 [==============================] - 0s 997us/step - loss: 6.1385e-06 - accuracy: 1.0000\n",
      "Epoch 12/56\n",
      "90/90 [==============================] - 0s 996us/step - loss: 0.0058 - accuracy: 0.9986\n",
      "Epoch 13/56\n",
      "90/90 [==============================] - 0s 977us/step - loss: 2.6356e-06 - accuracy: 1.0000\n",
      "Epoch 14/56\n",
      "90/90 [==============================] - 0s 1ms/step - loss: 1.9516e-06 - accuracy: 1.0000\n",
      "Epoch 15/56\n",
      "90/90 [==============================] - 0s 1ms/step - loss: 3.3113e-06 - accuracy: 1.0000\n",
      "Epoch 16/56\n",
      "90/90 [==============================] - 0s 1ms/step - loss: 3.0274e-07 - accuracy: 1.0000\n",
      "Epoch 17/56\n",
      "90/90 [==============================] - 0s 1ms/step - loss: 2.1115e-06 - accuracy: 1.0000\n",
      "Epoch 18/56\n",
      "90/90 [==============================] - 0s 1ms/step - loss: 5.0730e-07 - accuracy: 1.0000\n",
      "Epoch 19/56\n",
      "90/90 [==============================] - 0s 1ms/step - loss: 1.9448e-07 - accuracy: 1.0000\n",
      "Epoch 20/56\n",
      "90/90 [==============================] - 0s 1ms/step - loss: 2.2631e-07 - accuracy: 1.0000\n",
      "Epoch 21/56\n",
      "90/90 [==============================] - 0s 1ms/step - loss: 7.9943e-07 - accuracy: 1.0000\n",
      "Epoch 22/56\n",
      "90/90 [==============================] - 0s 1ms/step - loss: 1.8404e-08 - accuracy: 1.0000\n",
      "Epoch 23/56\n",
      "90/90 [==============================] - 0s 1ms/step - loss: 2.6096e-07 - accuracy: 1.0000\n",
      "Epoch 24/56\n",
      "90/90 [==============================] - 0s 1ms/step - loss: 2.4041e-08 - accuracy: 1.0000\n",
      "Epoch 25/56\n",
      "90/90 [==============================] - 0s 1ms/step - loss: 1.1622e-07 - accuracy: 1.0000\n",
      "Epoch 26/56\n",
      "90/90 [==============================] - 0s 1ms/step - loss: 1.0624e-05 - accuracy: 1.0000\n",
      "Epoch 27/56\n",
      "90/90 [==============================] - 0s 1ms/step - loss: 6.6288e-06 - accuracy: 1.0000\n",
      "Epoch 28/56\n",
      "90/90 [==============================] - 0s 1ms/step - loss: 9.9084e-07 - accuracy: 1.0000\n",
      "Epoch 29/56\n",
      "90/90 [==============================] - 0s 1ms/step - loss: 2.4038e-05 - accuracy: 1.0000\n",
      "Epoch 30/56\n",
      "90/90 [==============================] - 0s 1ms/step - loss: 1.0445e-08 - accuracy: 1.0000\n",
      "Epoch 31/56\n",
      "90/90 [==============================] - 0s 1000us/step - loss: 4.0952e-08 - accuracy: 1.0000\n",
      "Epoch 32/56\n",
      "90/90 [==============================] - 0s 1ms/step - loss: 4.3936e-08 - accuracy: 1.0000\n",
      "Epoch 33/56\n",
      "90/90 [==============================] - 0s 997us/step - loss: 6.4661e-09 - accuracy: 1.0000\n",
      "Epoch 34/56\n",
      "90/90 [==============================] - 0s 1ms/step - loss: 2.5449e-07 - accuracy: 1.0000\n",
      "Epoch 35/56\n",
      "90/90 [==============================] - 0s 1ms/step - loss: 2.7191e-08 - accuracy: 1.0000\n",
      "Epoch 36/56\n",
      "90/90 [==============================] - 0s 986us/step - loss: 2.5577e-06 - accuracy: 1.0000\n",
      "Epoch 37/56\n",
      "90/90 [==============================] - 0s 1ms/step - loss: 4.0289e-08 - accuracy: 1.0000\n",
      "Epoch 38/56\n",
      "90/90 [==============================] - 0s 1ms/step - loss: 4.2278e-08 - accuracy: 1.0000\n",
      "Epoch 39/56\n",
      "90/90 [==============================] - 0s 1ms/step - loss: 1.8569e-08 - accuracy: 1.0000\n",
      "Epoch 40/56\n",
      "90/90 [==============================] - 0s 1ms/step - loss: 3.3160e-08 - accuracy: 1.0000\n",
      "Epoch 41/56\n",
      "90/90 [==============================] - 0s 1ms/step - loss: 1.2318e-07 - accuracy: 1.0000\n",
      "Epoch 42/56\n",
      "90/90 [==============================] - 0s 1ms/step - loss: 2.5439e-06 - accuracy: 1.0000\n",
      "Epoch 43/56\n",
      "90/90 [==============================] - 0s 1ms/step - loss: 6.7976e-08 - accuracy: 1.0000\n",
      "Epoch 44/56\n",
      "90/90 [==============================] - 0s 1ms/step - loss: 2.1964e-05 - accuracy: 1.0000\n",
      "Epoch 45/56\n",
      "90/90 [==============================] - 0s 1ms/step - loss: 9.7192e-07 - accuracy: 1.0000\n",
      "Epoch 46/56\n",
      "90/90 [==============================] - 0s 1ms/step - loss: 7.6265e-08 - accuracy: 1.0000\n",
      "Epoch 47/56\n",
      "90/90 [==============================] - 0s 1ms/step - loss: 6.1349e-07 - accuracy: 1.0000\n",
      "Epoch 48/56\n",
      "90/90 [==============================] - 0s 1ms/step - loss: 5.4322e-06 - accuracy: 1.0000\n",
      "Epoch 49/56\n",
      "90/90 [==============================] - 0s 1ms/step - loss: 3.2775e-07 - accuracy: 1.0000\n",
      "Epoch 50/56\n",
      "90/90 [==============================] - 0s 1ms/step - loss: 6.2837e-08 - accuracy: 1.0000\n",
      "Epoch 51/56\n",
      "90/90 [==============================] - 0s 1ms/step - loss: 1.8933e-07 - accuracy: 1.0000\n",
      "Epoch 52/56\n",
      "90/90 [==============================] - 0s 997us/step - loss: 2.7522e-08 - accuracy: 1.0000\n",
      "Epoch 53/56\n",
      "90/90 [==============================] - 0s 1ms/step - loss: 1.3777e-07 - accuracy: 1.0000\n",
      "Epoch 54/56\n",
      "90/90 [==============================] - 0s 934us/step - loss: 1.3761e-08 - accuracy: 1.0000\n",
      "Epoch 55/56\n",
      "90/90 [==============================] - 0s 1ms/step - loss: 1.9398e-08 - accuracy: 1.0000\n",
      "Epoch 56/56\n",
      "90/90 [==============================] - 0s 958us/step - loss: 1.7575e-08 - accuracy: 1.0000\n"
     ]
    },
    {
     "data": {
      "text/plain": [
       "<tensorflow.python.keras.callbacks.History at 0x226e37ef308>"
      ]
     },
     "execution_count": 45,
     "metadata": {},
     "output_type": "execute_result"
    }
   ],
   "source": [
    "model.fit(train_X, train_Y, epochs = 54, batch_size = 8)"
   ]
  },
  {
   "cell_type": "code",
   "execution_count": 46,
   "id": "397f2e02",
   "metadata": {},
   "outputs": [],
   "source": [
    "yhat_train = model.predict(train_X)\n",
    "yhat_val =  model.predict(valX)"
   ]
  },
  {
   "cell_type": "code",
   "execution_count": 47,
   "id": "54b96b1f",
   "metadata": {},
   "outputs": [],
   "source": [
    "yhat_val = np.argmax(yhat_val, axis = 1)"
   ]
  },
  {
   "cell_type": "code",
   "execution_count": 48,
   "id": "8e483250",
   "metadata": {},
   "outputs": [
    {
     "data": {
      "text/plain": [
       "0"
      ]
     },
     "execution_count": 48,
     "metadata": {},
     "output_type": "execute_result"
    }
   ],
   "source": [
    "yhat_val[0]"
   ]
  },
  {
   "cell_type": "code",
   "execution_count": 49,
   "id": "c1633d6a",
   "metadata": {},
   "outputs": [],
   "source": [
    "valY = np.argmax(valY, axis = 1)"
   ]
  },
  {
   "cell_type": "code",
   "execution_count": 50,
   "id": "7e677211",
   "metadata": {
    "scrolled": true
   },
   "outputs": [
    {
     "data": {
      "text/plain": [
       "array([0, 0, 0, 0, 0, 0, 0, 0, 0, 0, 0, 0, 0, 0, 0, 0, 0, 0, 0, 0, 0, 0,\n",
       "       0, 0, 0, 0, 0, 0, 0, 0, 0, 0, 0, 0, 0, 0, 0, 0, 0, 0, 0, 0, 0, 0,\n",
       "       0, 0, 0, 0, 0, 0, 0, 0, 0, 0, 0, 1, 1, 1, 1, 1, 1, 1, 1, 1, 1, 1,\n",
       "       1, 1, 1, 1, 1, 1, 1, 1, 1, 1, 1, 1, 1, 1, 1, 1, 1, 1, 1, 1, 1, 1,\n",
       "       1, 1, 1, 1, 1, 1, 1, 2, 2, 2, 2, 2, 2, 2, 2, 2, 2, 2, 2, 2, 2, 2,\n",
       "       2, 2, 2, 2, 2, 2, 2, 2, 2, 2, 2, 2, 2, 2, 2, 2, 2, 2, 2, 2, 2, 2,\n",
       "       2, 2, 2, 2, 2, 2, 2, 2, 2, 2, 2, 2, 2, 2, 2, 2, 2, 2, 2, 2, 2, 2,\n",
       "       2, 2, 2, 2, 2, 2, 2, 2, 2, 2, 2, 2, 2, 2, 2, 2, 2, 2, 2, 2, 2],\n",
       "      dtype=int64)"
      ]
     },
     "execution_count": 50,
     "metadata": {},
     "output_type": "execute_result"
    }
   ],
   "source": [
    "valY"
   ]
  },
  {
   "cell_type": "code",
   "execution_count": 51,
   "id": "1dc37ebd",
   "metadata": {},
   "outputs": [
    {
     "name": "stdout",
     "output_type": "stream",
     "text": [
      "MODELO: KERAS\n",
      "Sensitividade: 1.000\n",
      "Acurácia: 0.543\n",
      "Especificidade: 1.000\n"
     ]
    },
    {
     "data": {
      "image/png": "[encoded data removed]",
      "text/plain": [
       "<Figure size 360x360 with 1 Axes>"
      ]
     },
     "metadata": {
      "needs_background": "light"
     },
     "output_type": "display_data"
    }
   ],
   "source": [
    "pr_confusion_matrix(\"KERAS\", valY, yhat_val )"
   ]
  },
  {
   "cell_type": "code",
   "execution_count": 52,
   "id": "2bbf9fda",
   "metadata": {},
   "outputs": [],
   "source": [
    "#model.save('face3classes.h5')"
   ]
  },
  {
   "cell_type": "code",
   "execution_count": 54,
   "id": "ae2bceef",
   "metadata": {},
   "outputs": [],
   "source": [
    "#!pip show scikit-learn"
   ]
  },
  {
   "cell_type": "code",
   "execution_count": 1,
   "id": "4fa5c7a5",
   "metadata": {},
   "outputs": [
    {
     "name": "stdout",
     "output_type": "stream",
     "text": [
      "Name: tensorflow\n",
      "Version: 2.2.0\n",
      "Summary: TensorFlow is an open source machine learning framework for everyone.\n",
      "Home-page: https://www.tensorflow.org/\n",
      "Author: Google Inc.\n",
      "Author-email: packages@tensorflow.org\n",
      "License: Apache 2.0\n",
      "Location: c:\\users\\vagne\\anaconda3\\envs\\tensorflow\\lib\\site-packages\n",
      "Requires: h5py, astunparse, protobuf, grpcio, opt-einsum, keras-preprocessing, termcolor, google-pasta, gast, wrapt, six, absl-py, tensorboard, scipy, wheel, tensorflow-estimator, numpy\n",
      "Required-by: \n"
     ]
    }
   ],
   "source": [
    "!pip show tensorflow"
   ]
  }
 ],
 "metadata": {
  "kernelspec": {
   "display_name": "Python 3",
   "language": "python",
   "name": "python3"
  },
  "language_info": {
   "codemirror_mode": {
    "name": "ipython",
    "version": 3
   },
   "file_extension": ".py",
   "mimetype": "text/x-python",
   "name": "python",
   "nbconvert_exporter": "python",
   "pygments_lexer": "ipython3",
   "version": "3.7.10"
  }
 },
 "nbformat": 4,
 "nbformat_minor": 5
}
