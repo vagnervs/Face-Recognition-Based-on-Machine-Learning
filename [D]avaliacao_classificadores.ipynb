{
 "cells": [
  {
   "cell_type": "code",
   "execution_count": 1,
   "id": "448f87ff",
   "metadata": {},
   "outputs": [],
   "source": [
    "import numpy as np\n",
    "import pandas as pd\n",
    "import matplotlib.pyplot as plt\n",
    "%matplotlib inline"
   ]
  },
  {
   "cell_type": "code",
   "execution_count": 2,
   "id": "82080d27",
   "metadata": {},
   "outputs": [],
   "source": [
    "#carregar embedding das pessoas conhecidas, ou seja, a quais se quer reconhecer '.csv'\n",
    "#data_unknown = pd.read_csv(\"C:\\\\Users\\\\vagne\\\\Documents\\\\EFET\\\\PROJETO\\\\TESTES_COMPARATIVOS\\\\gráfico\\\\faces_treino_unknow_23945.csv\")\n",
    "data_unknown = pd.read_csv(\"C:\\\\Users\\\\vagne\\\\Documents\\\\EFET\\\\PROJETO\\\\TESTES_COMPARATIVOS\\\\gráfico\\\\faces_treino_unknow_23945.csv\")\n",
    "\n"
   ]
  },
  {
   "cell_type": "code",
   "execution_count": 3,
   "id": "46227a18",
   "metadata": {},
   "outputs": [],
   "source": [
    "#carregar embedding dos desconhecidos ou pessoas aleatórias '.csv'\n",
    "#data_known = pd.read_csv('C:\\\\Users\\\\vagne\\\\Documents\\\\EFET\\\\PROJETO\\\\TESTES_COMPARATIVOS\\\\gráfico\\\\faces_treino_know_1055.csv') \n",
    "data_known = pd.read_csv('C:\\\\Users\\\\vagne\\\\Documents\\\\EFET\\\\PROJETO\\\\TESTES_COMPARATIVOS\\\\gráfico\\\\faces_treino_know_1055.csv') "
   ]
  },
  {
   "cell_type": "code",
   "execution_count": 4,
   "id": "b6b9705a",
   "metadata": {},
   "outputs": [],
   "source": [
    "data = pd.concat([data_unknown, data_known])#união dos dataframes em uma única matriz"
   ]
  },
  {
   "cell_type": "code",
   "execution_count": 5,
   "id": "0618b267",
   "metadata": {},
   "outputs": [],
   "source": [
    "#data.drop(\"target\", axis=1)"
   ]
  },
  {
   "cell_type": "code",
   "execution_count": 6,
   "id": "aed5c0f8",
   "metadata": {},
   "outputs": [
    {
     "data": {
      "text/html": [
       "<div>\n",
       "<style scoped>\n",
       "    .dataframe tbody tr th:only-of-type {\n",
       "        vertical-align: middle;\n",
       "    }\n",
       "\n",
       "    .dataframe tbody tr th {\n",
       "        vertical-align: top;\n",
       "    }\n",
       "\n",
       "    .dataframe thead th {\n",
       "        text-align: right;\n",
       "    }\n",
       "</style>\n",
       "<table border=\"1\" class=\"dataframe\">\n",
       "  <thead>\n",
       "    <tr style=\"text-align: right;\">\n",
       "      <th></th>\n",
       "      <th>0</th>\n",
       "      <th>1</th>\n",
       "      <th>2</th>\n",
       "      <th>3</th>\n",
       "      <th>4</th>\n",
       "      <th>5</th>\n",
       "      <th>6</th>\n",
       "      <th>7</th>\n",
       "      <th>8</th>\n",
       "      <th>9</th>\n",
       "      <th>...</th>\n",
       "      <th>119</th>\n",
       "      <th>120</th>\n",
       "      <th>121</th>\n",
       "      <th>122</th>\n",
       "      <th>123</th>\n",
       "      <th>124</th>\n",
       "      <th>125</th>\n",
       "      <th>126</th>\n",
       "      <th>127</th>\n",
       "      <th>target</th>\n",
       "    </tr>\n",
       "  </thead>\n",
       "  <tbody>\n",
       "    <tr>\n",
       "      <th>0</th>\n",
       "      <td>-1.184488</td>\n",
       "      <td>-0.037075</td>\n",
       "      <td>-0.310449</td>\n",
       "      <td>1.535288</td>\n",
       "      <td>-0.426154</td>\n",
       "      <td>-0.164261</td>\n",
       "      <td>-1.946720</td>\n",
       "      <td>-1.504363</td>\n",
       "      <td>0.544507</td>\n",
       "      <td>2.118238</td>\n",
       "      <td>...</td>\n",
       "      <td>-0.148841</td>\n",
       "      <td>1.511575</td>\n",
       "      <td>-1.754456</td>\n",
       "      <td>0.349307</td>\n",
       "      <td>-1.310328</td>\n",
       "      <td>-0.277957</td>\n",
       "      <td>-0.487598</td>\n",
       "      <td>3.974886</td>\n",
       "      <td>1.516967</td>\n",
       "      <td>desconhecidos</td>\n",
       "    </tr>\n",
       "    <tr>\n",
       "      <th>1</th>\n",
       "      <td>-1.729603</td>\n",
       "      <td>-2.216308</td>\n",
       "      <td>2.378981</td>\n",
       "      <td>0.020642</td>\n",
       "      <td>-1.470711</td>\n",
       "      <td>0.078194</td>\n",
       "      <td>1.397792</td>\n",
       "      <td>-0.148966</td>\n",
       "      <td>1.196654</td>\n",
       "      <td>-0.129112</td>\n",
       "      <td>...</td>\n",
       "      <td>0.274649</td>\n",
       "      <td>-0.213524</td>\n",
       "      <td>0.412351</td>\n",
       "      <td>0.239262</td>\n",
       "      <td>-0.517173</td>\n",
       "      <td>0.077622</td>\n",
       "      <td>0.423780</td>\n",
       "      <td>1.126909</td>\n",
       "      <td>-0.979598</td>\n",
       "      <td>desconhecidos</td>\n",
       "    </tr>\n",
       "    <tr>\n",
       "      <th>2</th>\n",
       "      <td>-0.115113</td>\n",
       "      <td>-1.064566</td>\n",
       "      <td>-0.331112</td>\n",
       "      <td>0.927957</td>\n",
       "      <td>-2.399568</td>\n",
       "      <td>1.120506</td>\n",
       "      <td>-1.681376</td>\n",
       "      <td>0.091642</td>\n",
       "      <td>-0.008483</td>\n",
       "      <td>1.015339</td>\n",
       "      <td>...</td>\n",
       "      <td>1.456092</td>\n",
       "      <td>-0.575175</td>\n",
       "      <td>0.841954</td>\n",
       "      <td>-0.035182</td>\n",
       "      <td>-1.049374</td>\n",
       "      <td>0.678325</td>\n",
       "      <td>-0.883975</td>\n",
       "      <td>0.814864</td>\n",
       "      <td>-1.241990</td>\n",
       "      <td>desconhecidos</td>\n",
       "    </tr>\n",
       "    <tr>\n",
       "      <th>3</th>\n",
       "      <td>-0.177592</td>\n",
       "      <td>0.574779</td>\n",
       "      <td>-1.185092</td>\n",
       "      <td>1.978255</td>\n",
       "      <td>-0.274014</td>\n",
       "      <td>0.965762</td>\n",
       "      <td>-0.085740</td>\n",
       "      <td>-0.403561</td>\n",
       "      <td>0.488117</td>\n",
       "      <td>0.852208</td>\n",
       "      <td>...</td>\n",
       "      <td>-1.022199</td>\n",
       "      <td>1.229965</td>\n",
       "      <td>-1.997093</td>\n",
       "      <td>0.548645</td>\n",
       "      <td>-0.100363</td>\n",
       "      <td>0.511239</td>\n",
       "      <td>0.074036</td>\n",
       "      <td>2.325175</td>\n",
       "      <td>-0.177879</td>\n",
       "      <td>desconhecidos</td>\n",
       "    </tr>\n",
       "    <tr>\n",
       "      <th>4</th>\n",
       "      <td>0.825329</td>\n",
       "      <td>1.542661</td>\n",
       "      <td>0.146476</td>\n",
       "      <td>-0.159960</td>\n",
       "      <td>-0.283281</td>\n",
       "      <td>-1.694085</td>\n",
       "      <td>-0.490159</td>\n",
       "      <td>-1.559936</td>\n",
       "      <td>-0.818318</td>\n",
       "      <td>-0.511240</td>\n",
       "      <td>...</td>\n",
       "      <td>-0.732255</td>\n",
       "      <td>-0.139215</td>\n",
       "      <td>-0.944376</td>\n",
       "      <td>1.076449</td>\n",
       "      <td>-1.135574</td>\n",
       "      <td>0.729563</td>\n",
       "      <td>-1.979146</td>\n",
       "      <td>0.163751</td>\n",
       "      <td>0.525420</td>\n",
       "      <td>desconhecidos</td>\n",
       "    </tr>\n",
       "    <tr>\n",
       "      <th>...</th>\n",
       "      <td>...</td>\n",
       "      <td>...</td>\n",
       "      <td>...</td>\n",
       "      <td>...</td>\n",
       "      <td>...</td>\n",
       "      <td>...</td>\n",
       "      <td>...</td>\n",
       "      <td>...</td>\n",
       "      <td>...</td>\n",
       "      <td>...</td>\n",
       "      <td>...</td>\n",
       "      <td>...</td>\n",
       "      <td>...</td>\n",
       "      <td>...</td>\n",
       "      <td>...</td>\n",
       "      <td>...</td>\n",
       "      <td>...</td>\n",
       "      <td>...</td>\n",
       "      <td>...</td>\n",
       "      <td>...</td>\n",
       "      <td>...</td>\n",
       "    </tr>\n",
       "    <tr>\n",
       "      <th>1050</th>\n",
       "      <td>-1.481967</td>\n",
       "      <td>1.531525</td>\n",
       "      <td>-0.277671</td>\n",
       "      <td>-0.174072</td>\n",
       "      <td>-1.792071</td>\n",
       "      <td>1.793404</td>\n",
       "      <td>0.322715</td>\n",
       "      <td>0.187371</td>\n",
       "      <td>0.116592</td>\n",
       "      <td>-0.328260</td>\n",
       "      <td>...</td>\n",
       "      <td>0.507608</td>\n",
       "      <td>-0.410722</td>\n",
       "      <td>0.670201</td>\n",
       "      <td>1.498202</td>\n",
       "      <td>-0.393235</td>\n",
       "      <td>-1.927614</td>\n",
       "      <td>0.118893</td>\n",
       "      <td>0.021800</td>\n",
       "      <td>-0.831606</td>\n",
       "      <td>vigner</td>\n",
       "    </tr>\n",
       "    <tr>\n",
       "      <th>1051</th>\n",
       "      <td>-0.628539</td>\n",
       "      <td>1.556414</td>\n",
       "      <td>-1.284077</td>\n",
       "      <td>-0.196966</td>\n",
       "      <td>-1.721828</td>\n",
       "      <td>1.249789</td>\n",
       "      <td>-1.140670</td>\n",
       "      <td>1.313771</td>\n",
       "      <td>-0.516849</td>\n",
       "      <td>0.573256</td>\n",
       "      <td>...</td>\n",
       "      <td>0.401942</td>\n",
       "      <td>0.687696</td>\n",
       "      <td>-0.504047</td>\n",
       "      <td>0.567430</td>\n",
       "      <td>-0.431315</td>\n",
       "      <td>-1.408556</td>\n",
       "      <td>-0.785932</td>\n",
       "      <td>0.688993</td>\n",
       "      <td>-1.435021</td>\n",
       "      <td>vigner</td>\n",
       "    </tr>\n",
       "    <tr>\n",
       "      <th>1052</th>\n",
       "      <td>-0.788234</td>\n",
       "      <td>1.540403</td>\n",
       "      <td>-0.910943</td>\n",
       "      <td>0.168973</td>\n",
       "      <td>-1.949909</td>\n",
       "      <td>1.145806</td>\n",
       "      <td>0.101811</td>\n",
       "      <td>0.493895</td>\n",
       "      <td>-0.389721</td>\n",
       "      <td>0.261355</td>\n",
       "      <td>...</td>\n",
       "      <td>0.684106</td>\n",
       "      <td>0.211443</td>\n",
       "      <td>-0.340254</td>\n",
       "      <td>1.627280</td>\n",
       "      <td>-0.373204</td>\n",
       "      <td>-1.400084</td>\n",
       "      <td>-0.737319</td>\n",
       "      <td>0.935522</td>\n",
       "      <td>-1.246666</td>\n",
       "      <td>vigner</td>\n",
       "    </tr>\n",
       "    <tr>\n",
       "      <th>1053</th>\n",
       "      <td>-0.788234</td>\n",
       "      <td>1.540403</td>\n",
       "      <td>-0.910943</td>\n",
       "      <td>0.168973</td>\n",
       "      <td>-1.949909</td>\n",
       "      <td>1.145806</td>\n",
       "      <td>0.101811</td>\n",
       "      <td>0.493895</td>\n",
       "      <td>-0.389721</td>\n",
       "      <td>0.261355</td>\n",
       "      <td>...</td>\n",
       "      <td>0.684106</td>\n",
       "      <td>0.211443</td>\n",
       "      <td>-0.340254</td>\n",
       "      <td>1.627280</td>\n",
       "      <td>-0.373204</td>\n",
       "      <td>-1.400084</td>\n",
       "      <td>-0.737319</td>\n",
       "      <td>0.935522</td>\n",
       "      <td>-1.246666</td>\n",
       "      <td>vigner</td>\n",
       "    </tr>\n",
       "    <tr>\n",
       "      <th>1054</th>\n",
       "      <td>0.256199</td>\n",
       "      <td>1.484663</td>\n",
       "      <td>-1.000536</td>\n",
       "      <td>-1.083180</td>\n",
       "      <td>-0.638074</td>\n",
       "      <td>1.016271</td>\n",
       "      <td>-0.206955</td>\n",
       "      <td>0.518593</td>\n",
       "      <td>0.442306</td>\n",
       "      <td>-0.319717</td>\n",
       "      <td>...</td>\n",
       "      <td>0.520795</td>\n",
       "      <td>1.185846</td>\n",
       "      <td>-0.275783</td>\n",
       "      <td>1.547294</td>\n",
       "      <td>-0.188107</td>\n",
       "      <td>-1.304267</td>\n",
       "      <td>-1.082115</td>\n",
       "      <td>0.155827</td>\n",
       "      <td>-1.120267</td>\n",
       "      <td>vigner</td>\n",
       "    </tr>\n",
       "  </tbody>\n",
       "</table>\n",
       "<p>25000 rows × 129 columns</p>\n",
       "</div>"
      ],
      "text/plain": [
       "             0         1         2         3         4         5         6  \\\n",
       "0    -1.184488 -0.037075 -0.310449  1.535288 -0.426154 -0.164261 -1.946720   \n",
       "1    -1.729603 -2.216308  2.378981  0.020642 -1.470711  0.078194  1.397792   \n",
       "2    -0.115113 -1.064566 -0.331112  0.927957 -2.399568  1.120506 -1.681376   \n",
       "3    -0.177592  0.574779 -1.185092  1.978255 -0.274014  0.965762 -0.085740   \n",
       "4     0.825329  1.542661  0.146476 -0.159960 -0.283281 -1.694085 -0.490159   \n",
       "...        ...       ...       ...       ...       ...       ...       ...   \n",
       "1050 -1.481967  1.531525 -0.277671 -0.174072 -1.792071  1.793404  0.322715   \n",
       "1051 -0.628539  1.556414 -1.284077 -0.196966 -1.721828  1.249789 -1.140670   \n",
       "1052 -0.788234  1.540403 -0.910943  0.168973 -1.949909  1.145806  0.101811   \n",
       "1053 -0.788234  1.540403 -0.910943  0.168973 -1.949909  1.145806  0.101811   \n",
       "1054  0.256199  1.484663 -1.000536 -1.083180 -0.638074  1.016271 -0.206955   \n",
       "\n",
       "             7         8         9  ...       119       120       121  \\\n",
       "0    -1.504363  0.544507  2.118238  ... -0.148841  1.511575 -1.754456   \n",
       "1    -0.148966  1.196654 -0.129112  ...  0.274649 -0.213524  0.412351   \n",
       "2     0.091642 -0.008483  1.015339  ...  1.456092 -0.575175  0.841954   \n",
       "3    -0.403561  0.488117  0.852208  ... -1.022199  1.229965 -1.997093   \n",
       "4    -1.559936 -0.818318 -0.511240  ... -0.732255 -0.139215 -0.944376   \n",
       "...        ...       ...       ...  ...       ...       ...       ...   \n",
       "1050  0.187371  0.116592 -0.328260  ...  0.507608 -0.410722  0.670201   \n",
       "1051  1.313771 -0.516849  0.573256  ...  0.401942  0.687696 -0.504047   \n",
       "1052  0.493895 -0.389721  0.261355  ...  0.684106  0.211443 -0.340254   \n",
       "1053  0.493895 -0.389721  0.261355  ...  0.684106  0.211443 -0.340254   \n",
       "1054  0.518593  0.442306 -0.319717  ...  0.520795  1.185846 -0.275783   \n",
       "\n",
       "           122       123       124       125       126       127  \\\n",
       "0     0.349307 -1.310328 -0.277957 -0.487598  3.974886  1.516967   \n",
       "1     0.239262 -0.517173  0.077622  0.423780  1.126909 -0.979598   \n",
       "2    -0.035182 -1.049374  0.678325 -0.883975  0.814864 -1.241990   \n",
       "3     0.548645 -0.100363  0.511239  0.074036  2.325175 -0.177879   \n",
       "4     1.076449 -1.135574  0.729563 -1.979146  0.163751  0.525420   \n",
       "...        ...       ...       ...       ...       ...       ...   \n",
       "1050  1.498202 -0.393235 -1.927614  0.118893  0.021800 -0.831606   \n",
       "1051  0.567430 -0.431315 -1.408556 -0.785932  0.688993 -1.435021   \n",
       "1052  1.627280 -0.373204 -1.400084 -0.737319  0.935522 -1.246666   \n",
       "1053  1.627280 -0.373204 -1.400084 -0.737319  0.935522 -1.246666   \n",
       "1054  1.547294 -0.188107 -1.304267 -1.082115  0.155827 -1.120267   \n",
       "\n",
       "             target  \n",
       "0     desconhecidos  \n",
       "1     desconhecidos  \n",
       "2     desconhecidos  \n",
       "3     desconhecidos  \n",
       "4     desconhecidos  \n",
       "...             ...  \n",
       "1050         vigner  \n",
       "1051         vigner  \n",
       "1052         vigner  \n",
       "1053         vigner  \n",
       "1054         vigner  \n",
       "\n",
       "[25000 rows x 129 columns]"
      ]
     },
     "execution_count": 6,
     "metadata": {},
     "output_type": "execute_result"
    }
   ],
   "source": [
    "data\n",
    "#data.to_csv('faces_join.csv', index=False)"
   ]
  },
  {
   "cell_type": "code",
   "execution_count": 7,
   "id": "fbb888d8",
   "metadata": {},
   "outputs": [],
   "source": [
    "X = np.array(data.drop(\"target\", axis = 1))\n",
    "y = np.array(data.target)"
   ]
  },
  {
   "cell_type": "code",
   "execution_count": 8,
   "id": "9910c733",
   "metadata": {
    "scrolled": true
   },
   "outputs": [
    {
     "data": {
      "text/plain": [
       "array([[-1.1844882 , -0.03707459, -0.31044874, ..., -0.48759764,\n",
       "         3.974886  ,  1.5169668 ],\n",
       "       [-1.7296029 , -2.2163084 ,  2.3789809 , ...,  0.42377993,\n",
       "         1.1269091 , -0.9795977 ],\n",
       "       [-0.11511294, -1.0645655 , -0.33111176, ..., -0.8839753 ,\n",
       "         0.8148638 , -1.2419897 ],\n",
       "       ...,\n",
       "       [-0.78823376,  1.5404031 , -0.9109432 , ..., -0.7373193 ,\n",
       "         0.9355223 , -1.2466657 ],\n",
       "       [-0.78823376,  1.5404031 , -0.9109432 , ..., -0.7373193 ,\n",
       "         0.9355223 , -1.2466657 ],\n",
       "       [ 0.25619918,  1.4846631 , -1.0005358 , ..., -1.0821153 ,\n",
       "         0.155827  , -1.1202668 ]])"
      ]
     },
     "execution_count": 8,
     "metadata": {},
     "output_type": "execute_result"
    }
   ],
   "source": [
    "X"
   ]
  },
  {
   "cell_type": "code",
   "execution_count": 9,
   "id": "0c2c37c6",
   "metadata": {},
   "outputs": [
    {
     "data": {
      "text/plain": [
       "array(['desconhecidos', 'desconhecidos', 'desconhecidos', ..., 'vigner',\n",
       "       'vigner', 'vigner'], dtype=object)"
      ]
     },
     "execution_count": 9,
     "metadata": {},
     "output_type": "execute_result"
    }
   ],
   "source": [
    "y"
   ]
  },
  {
   "cell_type": "code",
   "execution_count": 10,
   "id": "99100d57",
   "metadata": {},
   "outputs": [
    {
     "name": "stdout",
     "output_type": "stream",
     "text": [
      "(25000, 128)\n",
      "(25000,)\n"
     ]
    }
   ],
   "source": [
    "print(X.shape)\n",
    "print(y.shape)"
   ]
  },
  {
   "cell_type": "code",
   "execution_count": 11,
   "id": "a99ec087",
   "metadata": {},
   "outputs": [],
   "source": [
    "from sklearn.utils import shuffle"
   ]
  },
  {
   "cell_type": "code",
   "execution_count": 12,
   "id": "d25fe075",
   "metadata": {},
   "outputs": [],
   "source": [
    "#aleatoriedade dos dados \n",
    "X, y = shuffle(X,y, random_state = 0)"
   ]
  },
  {
   "cell_type": "code",
   "execution_count": 13,
   "id": "e3a8ca31",
   "metadata": {},
   "outputs": [],
   "source": [
    "from sklearn.model_selection import train_test_split"
   ]
  },
  {
   "cell_type": "code",
   "execution_count": 14,
   "id": "f3089b45",
   "metadata": {},
   "outputs": [],
   "source": [
    "train_X, val_X, train_Y, val_Y = train_test_split(X, y, test_size = 0.30,random_state = 0)"
   ]
  },
  {
   "cell_type": "code",
   "execution_count": 15,
   "id": "bbdc3825",
   "metadata": {},
   "outputs": [],
   "source": [
    "#normalização\n",
    "from sklearn.preprocessing import Normalizer"
   ]
  },
  {
   "cell_type": "code",
   "execution_count": 16,
   "id": "c80f85fc",
   "metadata": {},
   "outputs": [],
   "source": [
    "norm =  Normalizer(norm = \"l2\")\n",
    "train_X = norm.transform(train_X)\n",
    "val_X = norm.transform(val_X)"
   ]
  },
  {
   "cell_type": "code",
   "execution_count": 17,
   "id": "e92d6db7",
   "metadata": {},
   "outputs": [],
   "source": [
    "#tratamento de labels\n",
    "from sklearn.preprocessing import LabelEncoder"
   ]
  },
  {
   "cell_type": "code",
   "execution_count": 18,
   "id": "7e21e23d",
   "metadata": {},
   "outputs": [
    {
     "data": {
      "text/plain": [
       "array(['desconhecidos', 'desconhecidos', 'desconhecidos', ...,\n",
       "       'desconhecidos', 'desconhecidos', 'desconhecidos'], dtype=object)"
      ]
     },
     "execution_count": 18,
     "metadata": {},
     "output_type": "execute_result"
    }
   ],
   "source": [
    "train_Y"
   ]
  },
  {
   "cell_type": "code",
   "execution_count": 19,
   "id": "828685f0",
   "metadata": {},
   "outputs": [
    {
     "data": {
      "text/plain": [
       "6"
      ]
     },
     "execution_count": 19,
     "metadata": {},
     "output_type": "execute_result"
    }
   ],
   "source": [
    "classes = len(np.unique(train_Y))\n",
    "classes "
   ]
  },
  {
   "cell_type": "code",
   "execution_count": 20,
   "id": "40c32aaf",
   "metadata": {},
   "outputs": [
    {
     "data": {
      "text/plain": [
       "array(['daniel', 'desconhecidos', 'jacirene', 'vagner', 'valmir',\n",
       "       'vigner'], dtype=object)"
      ]
     },
     "execution_count": 20,
     "metadata": {},
     "output_type": "execute_result"
    }
   ],
   "source": [
    "# discretização\n",
    "out_encoder = LabelEncoder()\n",
    "out_encoder.fit(train_Y)\n",
    "np.unique(train_Y)"
   ]
  },
  {
   "cell_type": "code",
   "execution_count": 21,
   "id": "a24848c8",
   "metadata": {},
   "outputs": [
    {
     "data": {
      "text/plain": [
       "array([1, 1, 1, ..., 1, 1, 1])"
      ]
     },
     "execution_count": 21,
     "metadata": {},
     "output_type": "execute_result"
    }
   ],
   "source": [
    "train_Y=out_encoder.transform(train_Y)\n",
    "train_Y"
   ]
  },
  {
   "cell_type": "code",
   "execution_count": 22,
   "id": "a0da561c",
   "metadata": {},
   "outputs": [],
   "source": [
    "out_encoder = LabelEncoder()"
   ]
  },
  {
   "cell_type": "code",
   "execution_count": 23,
   "id": "3d938178",
   "metadata": {},
   "outputs": [
    {
     "data": {
      "text/plain": [
       "array([0, 1, 2, 3, 4, 5])"
      ]
     },
     "execution_count": 23,
     "metadata": {},
     "output_type": "execute_result"
    }
   ],
   "source": [
    "out_encoder.fit(val_Y)\n",
    "val_Y=out_encoder.transform(val_Y)\n",
    "np.unique(val_Y)"
   ]
  },
  {
   "cell_type": "code",
   "execution_count": 24,
   "id": "254d046b",
   "metadata": {},
   "outputs": [
    {
     "data": {
      "text/plain": [
       "array([1, 1, 5, ..., 1, 1, 1])"
      ]
     },
     "execution_count": 24,
     "metadata": {},
     "output_type": "execute_result"
    }
   ],
   "source": [
    "val_Y"
   ]
  },
  {
   "cell_type": "code",
   "execution_count": 25,
   "id": "335b6f91",
   "metadata": {},
   "outputs": [],
   "source": [
    "#matriz de confusão\n",
    "from sklearn.metrics import confusion_matrix"
   ]
  },
  {
   "cell_type": "code",
   "execution_count": 26,
   "id": "61961acc",
   "metadata": {},
   "outputs": [],
   "source": [
    "def pr_confusion_matrix(model_name, val_Y, yhat_val):\n",
    "    \n",
    "    conf_mat = confusion_matrix(val_Y, yhat_val)\n",
    "    total = sum(sum(conf_mat))\n",
    "    accuracy =  (conf_mat[0, 0] + conf_mat[1, 1]) / total\n",
    "    sensitivity = conf_mat[0, 0] / (conf_mat[0, 0] + conf_mat[0, 1])\n",
    "    specificity = conf_mat[1, 1] / (conf_mat[1, 0] + conf_mat[1, 1])\n",
    "    \n",
    "    print(\"MODELO: {}\".format(model_name))\n",
    "    print(\"Acurácia: {:.4f}\".format(accuracy))\n",
    "    print(\"Sensitividade: {:.4f}\".format(sensitivity))\n",
    "    print(\"Especificidade: {:.4f}\".format(specificity))\n",
    "    \n",
    "    from mlxtend.plotting import plot_confusion_matrix\n",
    "    fig, ax = plot_confusion_matrix(conf_mat=conf_mat, figsize=(5,5))\n",
    "    plt.show()"
   ]
  },
  {
   "cell_type": "markdown",
   "id": "fcf42ffa",
   "metadata": {},
   "source": [
    "# KNN"
   ]
  },
  {
   "cell_type": "code",
   "execution_count": 27,
   "id": "2779b67b",
   "metadata": {},
   "outputs": [],
   "source": [
    "from sklearn.neighbors import KNeighborsClassifier"
   ]
  },
  {
   "cell_type": "code",
   "execution_count": 28,
   "id": "92c934eb",
   "metadata": {},
   "outputs": [],
   "source": [
    "knn = KNeighborsClassifier(n_neighbors = 7) #recomenda-se valor ímpar para n_neighbors "
   ]
  },
  {
   "cell_type": "code",
   "execution_count": 29,
   "id": "fdd8e6a4",
   "metadata": {},
   "outputs": [
    {
     "data": {
      "text/plain": [
       "KNeighborsClassifier(n_neighbors=7)"
      ]
     },
     "execution_count": 29,
     "metadata": {},
     "output_type": "execute_result"
    }
   ],
   "source": [
    "knn.fit(train_X, train_Y)"
   ]
  },
  {
   "cell_type": "code",
   "execution_count": 30,
   "id": "f860adf0",
   "metadata": {},
   "outputs": [],
   "source": [
    "yhat_train = knn.predict(train_X)\n",
    "yhat_val =  knn.predict(val_X)"
   ]
  },
  {
   "cell_type": "code",
   "execution_count": 31,
   "id": "91a6c5aa",
   "metadata": {},
   "outputs": [
    {
     "data": {
      "text/plain": [
       "array([1, 1, 5, ..., 1, 1, 1])"
      ]
     },
     "execution_count": 31,
     "metadata": {},
     "output_type": "execute_result"
    }
   ],
   "source": [
    "yhat_val"
   ]
  },
  {
   "cell_type": "code",
   "execution_count": 32,
   "id": "af4d2adf",
   "metadata": {},
   "outputs": [
    {
     "name": "stdout",
     "output_type": "stream",
     "text": [
      "MODELO: KNN\n",
      "Acurácia: 0.9656\n",
      "Sensitividade: 1.0000\n",
      "Especificidade: 0.9994\n"
     ]
    },
    {
     "data": {
      "image/png": "[encoded data removed]",
      "text/plain": [
       "<Figure size 360x360 with 1 Axes>"
      ]
     },
     "metadata": {
      "needs_background": "light"
     },
     "output_type": "display_data"
    }
   ],
   "source": [
    "pr_confusion_matrix(\"KNN\", val_Y, yhat_val)"
   ]
  },
  {
   "cell_type": "markdown",
   "id": "ad2d24ad",
   "metadata": {},
   "source": [
    "# SVM"
   ]
  },
  {
   "cell_type": "code",
   "execution_count": 33,
   "id": "26e5c8e4",
   "metadata": {},
   "outputs": [],
   "source": [
    "from sklearn import svm"
   ]
  },
  {
   "cell_type": "code",
   "execution_count": 34,
   "id": "4cc3a5c2",
   "metadata": {},
   "outputs": [],
   "source": [
    "svm = svm.SVC()"
   ]
  },
  {
   "cell_type": "code",
   "execution_count": 35,
   "id": "cace6afd",
   "metadata": {},
   "outputs": [
    {
     "data": {
      "text/plain": [
       "SVC()"
      ]
     },
     "execution_count": 35,
     "metadata": {},
     "output_type": "execute_result"
    }
   ],
   "source": [
    "svm.fit(train_X, train_Y)"
   ]
  },
  {
   "cell_type": "code",
   "execution_count": 36,
   "id": "eff11c45",
   "metadata": {},
   "outputs": [],
   "source": [
    "yhat_train = svm.predict(train_X)\n",
    "yhat_val =  svm.predict(val_X)"
   ]
  },
  {
   "cell_type": "code",
   "execution_count": 37,
   "id": "caff4923",
   "metadata": {},
   "outputs": [
    {
     "name": "stdout",
     "output_type": "stream",
     "text": [
      "MODELO: SVM\n",
      "Acurácia: 0.9683\n",
      "Sensitividade: 1.0000\n",
      "Especificidade: 1.0000\n"
     ]
    },
    {
     "data": {
      "image/png": "[encoded data removed]",
      "text/plain": [
       "<Figure size 360x360 with 1 Axes>"
      ]
     },
     "metadata": {
      "needs_background": "light"
     },
     "output_type": "display_data"
    }
   ],
   "source": [
    "pr_confusion_matrix(\"SVM\", val_Y, yhat_val)"
   ]
  },
  {
   "cell_type": "markdown",
   "id": "2e71ec0f",
   "metadata": {},
   "source": [
    "# REDE NEURAL - KERAS"
   ]
  },
  {
   "cell_type": "code",
   "execution_count": 38,
   "id": "a5ec4074",
   "metadata": {},
   "outputs": [],
   "source": [
    "#utilização do keras\n",
    "from tensorflow.keras.utils import to_categorical\n"
   ]
  },
  {
   "cell_type": "code",
   "execution_count": 39,
   "id": "6fd47217",
   "metadata": {},
   "outputs": [],
   "source": [
    "train_Y = to_categorical(train_Y)\n",
    "val_Y = to_categorical(val_Y)"
   ]
  },
  {
   "cell_type": "code",
   "execution_count": 40,
   "id": "c859ed6c",
   "metadata": {},
   "outputs": [
    {
     "name": "stdout",
     "output_type": "stream",
     "text": [
      "[0. 1. 0. 0. 0. 0.]\n",
      "[0. 1. 0. 0. 0. 0.]\n"
     ]
    }
   ],
   "source": [
    "print(val_Y[0])\n",
    "print(train_Y[0])\n"
   ]
  },
  {
   "cell_type": "code",
   "execution_count": 41,
   "id": "a53439a1",
   "metadata": {},
   "outputs": [],
   "source": [
    "from tensorflow.keras import models\n",
    "from tensorflow.keras import layers"
   ]
  },
  {
   "cell_type": "code",
   "execution_count": 42,
   "id": "4803620f",
   "metadata": {},
   "outputs": [],
   "source": [
    "model = models.Sequential()\n",
    "model.add(layers.Dense(128, activation = \"relu\", input_shape = (128, )))\n",
    "model.add(layers.Dropout(0.5))\n",
    "model.add(layers.Dense(classes,activation=\"softmax\"))"
   ]
  },
  {
   "cell_type": "code",
   "execution_count": 44,
   "id": "3199894e",
   "metadata": {},
   "outputs": [],
   "source": [
    "model.compile(optimizer = 'rmsprop', loss = 'categorical_crossentropy', metrics = ['accuracy'])"
   ]
  },
  {
   "cell_type": "code",
   "execution_count": 45,
   "id": "b90fa1b1",
   "metadata": {},
   "outputs": [
    {
     "name": "stdout",
     "output_type": "stream",
     "text": [
      "Epoch 1/56\n",
      "2188/2188 [==============================] - 3s 1ms/step - loss: 0.0802 - accuracy: 0.9859 - val_loss: 0.0091 - val_accuracy: 0.9992\n",
      "Epoch 2/56\n",
      "2188/2188 [==============================] - 3s 1ms/step - loss: 0.0119 - accuracy: 0.9985 - val_loss: 0.0071 - val_accuracy: 0.9993\n",
      "Epoch 3/56\n",
      "2188/2188 [==============================] - 3s 1ms/step - loss: 0.0085 - accuracy: 0.9987 - val_loss: 0.0052 - val_accuracy: 0.9993\n",
      "Epoch 4/56\n",
      "2188/2188 [==============================] - 3s 1ms/step - loss: 0.0061 - accuracy: 0.9989 - val_loss: 0.0050 - val_accuracy: 0.9993\n",
      "Epoch 5/56\n",
      "2188/2188 [==============================] - 3s 1ms/step - loss: 0.0056 - accuracy: 0.9989 - val_loss: 0.0034 - val_accuracy: 0.9993\n",
      "Epoch 6/56\n",
      "2188/2188 [==============================] - 3s 2ms/step - loss: 0.0043 - accuracy: 0.9990 - val_loss: 0.0041 - val_accuracy: 0.9992\n",
      "Epoch 7/56\n",
      "2188/2188 [==============================] - 3s 1ms/step - loss: 0.0043 - accuracy: 0.9988 - val_loss: 0.0026 - val_accuracy: 0.9995\n",
      "Epoch 8/56\n",
      "2188/2188 [==============================] - 3s 1ms/step - loss: 0.0028 - accuracy: 0.9993 - val_loss: 0.0018 - val_accuracy: 0.9995\n",
      "Epoch 9/56\n",
      "2188/2188 [==============================] - 3s 1ms/step - loss: 0.0021 - accuracy: 0.9993 - val_loss: 0.0018 - val_accuracy: 0.9993\n",
      "Epoch 10/56\n",
      "2188/2188 [==============================] - 3s 1ms/step - loss: 0.0028 - accuracy: 0.9994 - val_loss: 0.0015 - val_accuracy: 0.9995\n",
      "Epoch 11/56\n",
      "2188/2188 [==============================] - 3s 2ms/step - loss: 0.0020 - accuracy: 0.9996 - val_loss: 0.0011 - val_accuracy: 0.9996\n",
      "Epoch 12/56\n",
      "2188/2188 [==============================] - 3s 1ms/step - loss: 0.0013 - accuracy: 0.9996 - val_loss: 0.0012 - val_accuracy: 0.9995\n",
      "Epoch 13/56\n",
      "2188/2188 [==============================] - 3s 1ms/step - loss: 0.0011 - accuracy: 0.9996 - val_loss: 7.6311e-04 - val_accuracy: 0.9999\n",
      "Epoch 14/56\n",
      "2188/2188 [==============================] - 3s 1ms/step - loss: 0.0016 - accuracy: 0.9995 - val_loss: 3.1275e-04 - val_accuracy: 0.9999\n",
      "Epoch 15/56\n",
      "2188/2188 [==============================] - 3s 1ms/step - loss: 4.8206e-04 - accuracy: 0.9998 - val_loss: 5.0236e-04 - val_accuracy: 0.9999\n",
      "Epoch 16/56\n",
      "2188/2188 [==============================] - 4s 2ms/step - loss: 7.7640e-04 - accuracy: 0.9997 - val_loss: 3.8853e-04 - val_accuracy: 0.9999\n",
      "Epoch 17/56\n",
      "2188/2188 [==============================] - 3s 1ms/step - loss: 8.2103e-04 - accuracy: 0.9998 - val_loss: 1.7707e-04 - val_accuracy: 0.9999\n",
      "Epoch 18/56\n",
      "2188/2188 [==============================] - 3s 1ms/step - loss: 5.7041e-04 - accuracy: 0.9998 - val_loss: 1.2363e-04 - val_accuracy: 0.9999\n",
      "Epoch 19/56\n",
      "2188/2188 [==============================] - 3s 1ms/step - loss: 4.2178e-04 - accuracy: 0.9998 - val_loss: 9.7346e-05 - val_accuracy: 1.0000\n",
      "Epoch 20/56\n",
      "2188/2188 [==============================] - 3s 1ms/step - loss: 7.1533e-04 - accuracy: 0.9998 - val_loss: 9.2201e-05 - val_accuracy: 1.0000\n",
      "Epoch 21/56\n",
      "2188/2188 [==============================] - 3s 1ms/step - loss: 4.0766e-04 - accuracy: 0.9998 - val_loss: 4.3319e-05 - val_accuracy: 1.0000\n",
      "Epoch 22/56\n",
      "2188/2188 [==============================] - 3s 2ms/step - loss: 2.0605e-04 - accuracy: 0.9999 - val_loss: 7.2347e-05 - val_accuracy: 1.0000\n",
      "Epoch 23/56\n",
      "2188/2188 [==============================] - 4s 2ms/step - loss: 9.3872e-05 - accuracy: 0.9999 - val_loss: 7.9041e-05 - val_accuracy: 1.0000\n",
      "Epoch 24/56\n",
      "2188/2188 [==============================] - 4s 2ms/step - loss: 1.7064e-04 - accuracy: 0.9999 - val_loss: 7.0387e-05 - val_accuracy: 1.0000\n",
      "Epoch 25/56\n",
      "2188/2188 [==============================] - 4s 2ms/step - loss: 4.4368e-05 - accuracy: 1.0000 - val_loss: 8.9647e-05 - val_accuracy: 1.0000\n",
      "Epoch 26/56\n",
      "2188/2188 [==============================] - 3s 2ms/step - loss: 6.0987e-05 - accuracy: 1.0000 - val_loss: 8.0747e-05 - val_accuracy: 1.0000\n",
      "Epoch 27/56\n",
      "2188/2188 [==============================] - 4s 2ms/step - loss: 3.2597e-05 - accuracy: 1.0000 - val_loss: 4.7998e-05 - val_accuracy: 1.0000\n",
      "Epoch 28/56\n",
      "2188/2188 [==============================] - 3s 2ms/step - loss: 3.1542e-05 - accuracy: 1.0000 - val_loss: 2.1203e-05 - val_accuracy: 1.0000\n",
      "Epoch 29/56\n",
      "2188/2188 [==============================] - 3s 2ms/step - loss: 9.4776e-05 - accuracy: 1.0000 - val_loss: 1.8079e-05 - val_accuracy: 1.0000\n",
      "Epoch 30/56\n",
      "2188/2188 [==============================] - 3s 2ms/step - loss: 1.7823e-04 - accuracy: 0.9999 - val_loss: 1.3333e-04 - val_accuracy: 0.9999\n",
      "Epoch 31/56\n",
      "2188/2188 [==============================] - 3s 2ms/step - loss: 1.0241e-04 - accuracy: 1.0000 - val_loss: 4.3270e-05 - val_accuracy: 1.0000\n",
      "Epoch 32/56\n",
      "2188/2188 [==============================] - 3s 1ms/step - loss: 7.7197e-05 - accuracy: 0.9999 - val_loss: 1.3656e-05 - val_accuracy: 1.0000\n",
      "Epoch 33/56\n",
      "2188/2188 [==============================] - 3s 1ms/step - loss: 3.2525e-05 - accuracy: 1.0000 - val_loss: 2.5538e-05 - val_accuracy: 1.0000\n",
      "Epoch 34/56\n",
      "2188/2188 [==============================] - 3s 1ms/step - loss: 1.2164e-05 - accuracy: 1.0000 - val_loss: 1.3223e-05 - val_accuracy: 1.0000\n",
      "Epoch 35/56\n",
      "2188/2188 [==============================] - 3s 1ms/step - loss: 1.8533e-05 - accuracy: 1.0000 - val_loss: 5.7246e-06 - val_accuracy: 1.0000\n",
      "Epoch 36/56\n",
      "2188/2188 [==============================] - 3s 1ms/step - loss: 6.3081e-05 - accuracy: 0.9999 - val_loss: 5.1244e-06 - val_accuracy: 1.0000\n",
      "Epoch 37/56\n",
      "2188/2188 [==============================] - 3s 1ms/step - loss: 1.2221e-06 - accuracy: 1.0000 - val_loss: 7.2023e-06 - val_accuracy: 1.0000\n",
      "Epoch 38/56\n",
      "2188/2188 [==============================] - 3s 1ms/step - loss: 3.7610e-06 - accuracy: 1.0000 - val_loss: 7.8703e-06 - val_accuracy: 1.0000\n",
      "Epoch 39/56\n",
      "2188/2188 [==============================] - 3s 1ms/step - loss: 4.8938e-05 - accuracy: 1.0000 - val_loss: 1.0009e-05 - val_accuracy: 1.0000\n",
      "Epoch 40/56\n",
      "2188/2188 [==============================] - 3s 2ms/step - loss: 3.8421e-06 - accuracy: 1.0000 - val_loss: 8.7372e-06 - val_accuracy: 1.0000\n",
      "Epoch 41/56\n",
      "2188/2188 [==============================] - 3s 1ms/step - loss: 9.9684e-05 - accuracy: 0.9999 - val_loss: 1.4128e-05 - val_accuracy: 1.0000\n",
      "Epoch 42/56\n",
      "2188/2188 [==============================] - 3s 1ms/step - loss: 6.5721e-06 - accuracy: 1.0000 - val_loss: 1.6304e-05 - val_accuracy: 1.0000\n",
      "Epoch 43/56\n",
      "2188/2188 [==============================] - 3s 1ms/step - loss: 2.6044e-06 - accuracy: 1.0000 - val_loss: 9.9055e-06 - val_accuracy: 1.0000\n",
      "Epoch 44/56\n",
      "2188/2188 [==============================] - 3s 1ms/step - loss: 4.0916e-04 - accuracy: 0.9999 - val_loss: 6.7453e-06 - val_accuracy: 1.0000\n",
      "Epoch 45/56\n",
      "2188/2188 [==============================] - 3s 1ms/step - loss: 3.4655e-06 - accuracy: 1.0000 - val_loss: 2.1448e-05 - val_accuracy: 1.0000\n",
      "Epoch 46/56\n",
      "2188/2188 [==============================] - 3s 2ms/step - loss: 9.9481e-06 - accuracy: 1.0000 - val_loss: 9.0687e-06 - val_accuracy: 1.0000\n",
      "Epoch 47/56\n",
      "2188/2188 [==============================] - 4s 2ms/step - loss: 5.5353e-05 - accuracy: 0.9999 - val_loss: 7.5060e-06 - val_accuracy: 1.0000\n",
      "Epoch 48/56\n",
      "2188/2188 [==============================] - 3s 1ms/step - loss: 3.7296e-05 - accuracy: 1.0000 - val_loss: 1.0577e-05 - val_accuracy: 1.0000\n",
      "Epoch 49/56\n",
      "2188/2188 [==============================] - 4s 2ms/step - loss: 5.7268e-06 - accuracy: 1.0000 - val_loss: 2.3271e-05 - val_accuracy: 1.0000\n",
      "Epoch 50/56\n",
      "2188/2188 [==============================] - 4s 2ms/step - loss: 4.5800e-06 - accuracy: 1.0000 - val_loss: 4.9747e-06 - val_accuracy: 1.0000\n",
      "Epoch 51/56\n",
      "2188/2188 [==============================] - 3s 1ms/step - loss: 3.9107e-06 - accuracy: 1.0000 - val_loss: 6.4982e-06 - val_accuracy: 1.0000\n",
      "Epoch 52/56\n",
      "2188/2188 [==============================] - 3s 1ms/step - loss: 7.9010e-06 - accuracy: 1.0000 - val_loss: 1.1675e-05 - val_accuracy: 1.0000\n",
      "Epoch 53/56\n",
      "2188/2188 [==============================] - 3s 1ms/step - loss: 1.8604e-05 - accuracy: 1.0000 - val_loss: 6.5961e-06 - val_accuracy: 1.0000\n",
      "Epoch 54/56\n",
      "2188/2188 [==============================] - 3s 1ms/step - loss: 1.4152e-06 - accuracy: 1.0000 - val_loss: 1.9839e-05 - val_accuracy: 1.0000\n",
      "Epoch 55/56\n",
      "2188/2188 [==============================] - 3s 1ms/step - loss: 8.3615e-05 - accuracy: 1.0000 - val_loss: 2.8106e-05 - val_accuracy: 1.0000\n",
      "Epoch 56/56\n",
      "2188/2188 [==============================] - 3s 1ms/step - loss: 2.5485e-05 - accuracy: 1.0000 - val_loss: 7.0132e-06 - val_accuracy: 1.0000\n"
     ]
    }
   ],
   "source": [
    "batch_size = 8\n",
    "epochs = 54\n",
    "history = model.fit(train_X, train_Y, epochs = epochs, validation_data = (val_X, val_Y), \n",
    "                    batch_size = batch_size)"
   ]
  },
  {
   "cell_type": "code",
   "execution_count": 43,
   "id": "3587e822",
   "metadata": {},
   "outputs": [
    {
     "name": "stdout",
     "output_type": "stream",
     "text": [
      "Model: \"sequential\"\n",
      "_________________________________________________________________\n",
      "Layer (type)                 Output Shape              Param #   \n",
      "=================================================================\n",
      "dense (Dense)                (None, 128)               16512     \n",
      "_________________________________________________________________\n",
      "dropout (Dropout)            (None, 128)               0         \n",
      "_________________________________________________________________\n",
      "dense_1 (Dense)              (None, 6)                 774       \n",
      "=================================================================\n",
      "Total params: 17,286\n",
      "Trainable params: 17,286\n",
      "Non-trainable params: 0\n",
      "_________________________________________________________________\n"
     ]
    }
   ],
   "source": [
    "model.summary()"
   ]
  },
  {
   "cell_type": "code",
   "execution_count": 46,
   "id": "7d0c8886",
   "metadata": {},
   "outputs": [],
   "source": [
    "import matplotlib.pyplot as plt\n",
    "%matplotlib inline\n"
   ]
  },
  {
   "cell_type": "code",
   "execution_count": 47,
   "id": "e5c4b7d8",
   "metadata": {
    "scrolled": false
   },
   "outputs": [
    {
     "data": {
      "image/png": "[encoded data removed]",
      "text/plain": [
       "<Figure size 432x288 with 1 Axes>"
      ]
     },
     "metadata": {
      "needs_background": "light"
     },
     "output_type": "display_data"
    },
    {
     "data": {
      "image/png": "[encoded data removed]",
      "text/plain": [
       "<Figure size 432x288 with 1 Axes>"
      ]
     },
     "metadata": {
      "needs_background": "light"
     },
     "output_type": "display_data"
    }
   ],
   "source": [
    "plt.plot(history.history['accuracy'])\n",
    "plt.plot(history.history['val_accuracy'])\n",
    "plt.title('accuracy variation')\n",
    "plt.xlabel('epoch')\n",
    "plt.ylabel('accuracy')\n",
    "\n",
    "plt.legend(['train', 'test'],loc=\"lower right\")\n",
    "plt.show()\n",
    "\n",
    "#summary history for loss\n",
    "plt.plot(history.history['loss'])\n",
    "plt.plot(history.history['val_loss'])\n",
    "plt.title('loss variation')\n",
    "plt.xlabel('epoch')\n",
    "plt.ylabel('loss')\n",
    "\n",
    "plt.legend(['train', 'test'],loc=\"upper right\")\n",
    "plt.show()"
   ]
  },
  {
   "cell_type": "code",
   "execution_count": 48,
   "id": "29b50bc2",
   "metadata": {},
   "outputs": [
    {
     "name": "stdout",
     "output_type": "stream",
     "text": [
      "235/235 [==============================] - 0s 852us/step - loss: 7.0132e-06 - accuracy: 1.0000\n"
     ]
    }
   ],
   "source": [
    "val_loss, val_accuracy =  model.evaluate(val_X, val_Y)"
   ]
  },
  {
   "cell_type": "code",
   "execution_count": 49,
   "id": "9c3e17db",
   "metadata": {},
   "outputs": [],
   "source": [
    "yhat_val = model.predict(val_X)"
   ]
  },
  {
   "cell_type": "code",
   "execution_count": 50,
   "id": "4c6ac922",
   "metadata": {},
   "outputs": [
    {
     "name": "stdout",
     "output_type": "stream",
     "text": [
      "1\n",
      "1\n"
     ]
    }
   ],
   "source": [
    "val_Y2 = np.argmax(val_Y, axis = 1) \n",
    "yhat_val = np.argmax(yhat_val, axis = 1)\n",
    "\n",
    "print(val_Y2[0])\n",
    "print(yhat_val[0])"
   ]
  },
  {
   "cell_type": "code",
   "execution_count": 51,
   "id": "a59fe6dd",
   "metadata": {},
   "outputs": [
    {
     "name": "stdout",
     "output_type": "stream",
     "text": [
      "MODELO: KERAS\n",
      "Acurácia: 0.9683\n",
      "Sensitividade: 1.0000\n",
      "Especificidade: 1.0000\n"
     ]
    },
    {
     "data": {
      "image/png": "[encoded data removed]",
      "text/plain": [
       "<Figure size 360x360 with 1 Axes>"
      ]
     },
     "metadata": {
      "needs_background": "light"
     },
     "output_type": "display_data"
    }
   ],
   "source": [
    "pr_confusion_matrix(\"KERAS\", val_Y2, yhat_val )"
   ]
  },
  {
   "cell_type": "code",
   "execution_count": null,
   "id": "6f840527",
   "metadata": {},
   "outputs": [],
   "source": []
  },
  {
   "cell_type": "code",
   "execution_count": 52,
   "id": "b5e9f9b5",
   "metadata": {},
   "outputs": [],
   "source": [
    "#model.save(\"face_6classes_final.h5\")"
   ]
  }
 ],
 "metadata": {
  "kernelspec": {
   "display_name": "Python 3",
   "language": "python",
   "name": "python3"
  },
  "language_info": {
   "codemirror_mode": {
    "name": "ipython",
    "version": 3
   },
   "file_extension": ".py",
   "mimetype": "text/x-python",
   "name": "python",
   "nbconvert_exporter": "python",
   "pygments_lexer": "ipython3",
   "version": "3.7.10"
  }
 },
 "nbformat": 4,
 "nbformat_minor": 5
}
